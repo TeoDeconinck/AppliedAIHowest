{
 "cells": [
  {
   "cell_type": "markdown",
   "metadata": {
    "id": "ugnS7zgHvPDv"
   },
   "source": [
    "## ML - Recommender Systems - Lab\n",
    "We work on a dataset with 3 tables\n",
    "\n",
    "\n",
    "1.   Books\n",
    "2.   Users\n",
    "3.   Ratings\n",
    "\n"
   ]
  },
  {
   "cell_type": "code",
   "metadata": {
    "id": "UZgCOsUzv1_a",
    "ExecuteTime": {
     "end_time": "2025-05-26T16:14:25.630334Z",
     "start_time": "2025-05-26T16:14:25.328694Z"
    }
   },
   "source": [
    "# The following imports are needed throughout the lab exercise\n",
    "import re\n",
    "import pickle\n",
    "import operator\n",
    "import numpy as np\n",
    "import pandas as pd\n",
    "import seaborn as sns\n",
    "import matplotlib.pyplot as plt\n",
    "from collections import Counter\n",
    "from scipy.sparse import csr_matrix\n",
    "from pandas.api.types import is_numeric_dtype\n",
    "from sklearn.neighbors import NearestNeighbors\n",
    "from sklearn.feature_extraction import DictVectorizer\n",
    "from sklearn.metrics.pairwise import cosine_similarity\n",
    "from sklearn.feature_extraction.text import TfidfVectorizer\n",
    "\n",
    "import warnings\n",
    "warnings.filterwarnings(\"ignore\")"
   ],
   "outputs": [],
   "execution_count": 1
  },
  {
   "cell_type": "markdown",
   "metadata": {
    "id": "Gimlkluev7_-"
   },
   "source": [
    "##0 - Read in the dataset"
   ]
  },
  {
   "cell_type": "code",
   "metadata": {
    "colab": {
     "base_uri": "https://localhost:8080/"
    },
    "executionInfo": {
     "elapsed": 4618,
     "status": "ok",
     "timestamp": 1677413120162,
     "user": {
      "displayName": "Brian Baert",
      "userId": "10594924534974534320"
     },
     "user_tz": -60
    },
    "id": "Aejt8F3mv_Gq",
    "outputId": "92f46bd5-c8b3-4c21-b29d-3bf05c9722ca",
    "ExecuteTime": {
     "end_time": "2025-05-26T16:14:28.080245Z",
     "start_time": "2025-05-26T16:14:25.916817Z"
    }
   },
   "source": [
    "books = pd.read_csv('Books/Books.csv', delimiter=';', encoding='ISO-8859-1', on_bad_lines='skip')\n",
    "users = pd.read_csv('Books/Users.csv', delimiter=';', encoding='ISO-8859-1', on_bad_lines='skip')\n",
    "ratings = pd.read_csv('Books/Ratings.csv', delimiter=';', encoding='ISO-8859-1', on_bad_lines='skip')\n",
    "\n",
    "#books.shape\n",
    "#users.shape\n",
    "#ratings.shape"
   ],
   "outputs": [],
   "execution_count": 2
  },
  {
   "cell_type": "markdown",
   "metadata": {
    "id": "yvTCE1NCveq9"
   },
   "source": [
    "##1 - Data pre-processing\n",
    "The following steps should be done on the datasets: \n",
    "\n",
    "**Books**\n",
    "\n",
    "\n",
    "*   Drop the Image URL features\n",
    "*   Check for null values, replace with 'Other' (Hint: use `.loc` and `.iloc`)\n",
    "*   Check the `Year-Of-Publication` column, what's wrong there? (Before 'fixing' the issue, it is better to increase the column width so the entire value of `Book-Title`can be seen (there is hidden information in that field)\n",
    "*   There are three tuples with another anomaly, can you find them? Fix it manually\n",
    "*   Convert publication year to `int`\n",
    "*   Replace invalid years with the modus of the year column\n",
    "*   Make sure the ISBN column is in uppercase, remove duplicate rows"
   ]
  },
  {
   "cell_type": "code",
   "metadata": {
    "colab": {
     "base_uri": "https://localhost:8080/"
    },
    "executionInfo": {
     "elapsed": 14,
     "status": "ok",
     "timestamp": 1677413120163,
     "user": {
      "displayName": "Brian Baert",
      "userId": "10594924534974534320"
     },
     "user_tz": -60
    },
    "id": "VeJks9kjvMmK",
    "outputId": "973d6904-93a9-4783-c689-80ad2852fad6",
    "ExecuteTime": {
     "end_time": "2025-05-26T16:14:38.906716Z",
     "start_time": "2025-05-26T16:14:38.882896Z"
    }
   },
   "source": [
    "#Fill in the code\n",
    "books.columns"
   ],
   "outputs": [
    {
     "data": {
      "text/plain": [
       "Index(['ISBN', 'Book-Title', 'Book-Author', 'Year-Of-Publication', 'Publisher',\n",
       "       'Image-URL-S', 'Image-URL-M', 'Image-URL-L'],\n",
       "      dtype='object')"
      ]
     },
     "execution_count": 3,
     "metadata": {},
     "output_type": "execute_result"
    }
   ],
   "execution_count": 3
  },
  {
   "cell_type": "code",
   "metadata": {
    "colab": {
     "base_uri": "https://localhost:8080/",
     "height": 337
    },
    "executionInfo": {
     "elapsed": 10,
     "status": "ok",
     "timestamp": 1677413120163,
     "user": {
      "displayName": "Brian Baert",
      "userId": "10594924534974534320"
     },
     "user_tz": -60
    },
    "id": "56NaQdgdzaU2",
    "outputId": "d0195362-56d4-4663-d96f-4c05aa6f8892",
    "ExecuteTime": {
     "end_time": "2025-05-26T16:14:42.676069Z",
     "start_time": "2025-05-26T16:14:42.650902Z"
    }
   },
   "source": [
    "books.head()"
   ],
   "outputs": [
    {
     "data": {
      "text/plain": [
       "         ISBN                                         Book-Title  \\\n",
       "0  0195153448                                Classical Mythology   \n",
       "1  0002005018                                       Clara Callan   \n",
       "2  0060973129                               Decision in Normandy   \n",
       "3  0374157065  Flu: The Story of the Great Influenza Pandemic...   \n",
       "4  0393045218                             The Mummies of Urumchi   \n",
       "\n",
       "            Book-Author Year-Of-Publication                   Publisher  \\\n",
       "0    Mark P. O. Morford                2002     Oxford University Press   \n",
       "1  Richard Bruce Wright                2001       HarperFlamingo Canada   \n",
       "2          Carlo D'Este                1991             HarperPerennial   \n",
       "3      Gina Bari Kolata                1999        Farrar Straus Giroux   \n",
       "4       E. J. W. Barber                1999  W. W. Norton &amp; Company   \n",
       "\n",
       "                                         Image-URL-S  \\\n",
       "0  http://images.amazon.com/images/P/0195153448.0...   \n",
       "1  http://images.amazon.com/images/P/0002005018.0...   \n",
       "2  http://images.amazon.com/images/P/0060973129.0...   \n",
       "3  http://images.amazon.com/images/P/0374157065.0...   \n",
       "4  http://images.amazon.com/images/P/0393045218.0...   \n",
       "\n",
       "                                         Image-URL-M  \\\n",
       "0  http://images.amazon.com/images/P/0195153448.0...   \n",
       "1  http://images.amazon.com/images/P/0002005018.0...   \n",
       "2  http://images.amazon.com/images/P/0060973129.0...   \n",
       "3  http://images.amazon.com/images/P/0374157065.0...   \n",
       "4  http://images.amazon.com/images/P/0393045218.0...   \n",
       "\n",
       "                                         Image-URL-L  \n",
       "0  http://images.amazon.com/images/P/0195153448.0...  \n",
       "1  http://images.amazon.com/images/P/0002005018.0...  \n",
       "2  http://images.amazon.com/images/P/0060973129.0...  \n",
       "3  http://images.amazon.com/images/P/0374157065.0...  \n",
       "4  http://images.amazon.com/images/P/0393045218.0...  "
      ],
      "text/html": [
       "<div>\n",
       "<style scoped>\n",
       "    .dataframe tbody tr th:only-of-type {\n",
       "        vertical-align: middle;\n",
       "    }\n",
       "\n",
       "    .dataframe tbody tr th {\n",
       "        vertical-align: top;\n",
       "    }\n",
       "\n",
       "    .dataframe thead th {\n",
       "        text-align: right;\n",
       "    }\n",
       "</style>\n",
       "<table border=\"1\" class=\"dataframe\">\n",
       "  <thead>\n",
       "    <tr style=\"text-align: right;\">\n",
       "      <th></th>\n",
       "      <th>ISBN</th>\n",
       "      <th>Book-Title</th>\n",
       "      <th>Book-Author</th>\n",
       "      <th>Year-Of-Publication</th>\n",
       "      <th>Publisher</th>\n",
       "      <th>Image-URL-S</th>\n",
       "      <th>Image-URL-M</th>\n",
       "      <th>Image-URL-L</th>\n",
       "    </tr>\n",
       "  </thead>\n",
       "  <tbody>\n",
       "    <tr>\n",
       "      <th>0</th>\n",
       "      <td>0195153448</td>\n",
       "      <td>Classical Mythology</td>\n",
       "      <td>Mark P. O. Morford</td>\n",
       "      <td>2002</td>\n",
       "      <td>Oxford University Press</td>\n",
       "      <td>http://images.amazon.com/images/P/0195153448.0...</td>\n",
       "      <td>http://images.amazon.com/images/P/0195153448.0...</td>\n",
       "      <td>http://images.amazon.com/images/P/0195153448.0...</td>\n",
       "    </tr>\n",
       "    <tr>\n",
       "      <th>1</th>\n",
       "      <td>0002005018</td>\n",
       "      <td>Clara Callan</td>\n",
       "      <td>Richard Bruce Wright</td>\n",
       "      <td>2001</td>\n",
       "      <td>HarperFlamingo Canada</td>\n",
       "      <td>http://images.amazon.com/images/P/0002005018.0...</td>\n",
       "      <td>http://images.amazon.com/images/P/0002005018.0...</td>\n",
       "      <td>http://images.amazon.com/images/P/0002005018.0...</td>\n",
       "    </tr>\n",
       "    <tr>\n",
       "      <th>2</th>\n",
       "      <td>0060973129</td>\n",
       "      <td>Decision in Normandy</td>\n",
       "      <td>Carlo D'Este</td>\n",
       "      <td>1991</td>\n",
       "      <td>HarperPerennial</td>\n",
       "      <td>http://images.amazon.com/images/P/0060973129.0...</td>\n",
       "      <td>http://images.amazon.com/images/P/0060973129.0...</td>\n",
       "      <td>http://images.amazon.com/images/P/0060973129.0...</td>\n",
       "    </tr>\n",
       "    <tr>\n",
       "      <th>3</th>\n",
       "      <td>0374157065</td>\n",
       "      <td>Flu: The Story of the Great Influenza Pandemic...</td>\n",
       "      <td>Gina Bari Kolata</td>\n",
       "      <td>1999</td>\n",
       "      <td>Farrar Straus Giroux</td>\n",
       "      <td>http://images.amazon.com/images/P/0374157065.0...</td>\n",
       "      <td>http://images.amazon.com/images/P/0374157065.0...</td>\n",
       "      <td>http://images.amazon.com/images/P/0374157065.0...</td>\n",
       "    </tr>\n",
       "    <tr>\n",
       "      <th>4</th>\n",
       "      <td>0393045218</td>\n",
       "      <td>The Mummies of Urumchi</td>\n",
       "      <td>E. J. W. Barber</td>\n",
       "      <td>1999</td>\n",
       "      <td>W. W. Norton &amp;amp; Company</td>\n",
       "      <td>http://images.amazon.com/images/P/0393045218.0...</td>\n",
       "      <td>http://images.amazon.com/images/P/0393045218.0...</td>\n",
       "      <td>http://images.amazon.com/images/P/0393045218.0...</td>\n",
       "    </tr>\n",
       "  </tbody>\n",
       "</table>\n",
       "</div>"
      ]
     },
     "execution_count": 4,
     "metadata": {},
     "output_type": "execute_result"
    }
   ],
   "execution_count": 4
  },
  {
   "cell_type": "code",
   "execution_count": null,
   "metadata": {
    "colab": {
     "base_uri": "https://localhost:8080/",
     "height": 206
    },
    "executionInfo": {
     "elapsed": 9,
     "status": "ok",
     "timestamp": 1677413120164,
     "user": {
      "displayName": "Brian Baert",
      "userId": "10594924534974534320"
     },
     "user_tz": -60
    },
    "id": "PrVb3arBzcWG",
    "outputId": "3963f044-bceb-47a6-9f70-747e4f3e0037"
   },
   "outputs": [],
   "source": [
    "# Drop the image URL features\n",
    "#books.drop(fill in ...)\n",
    "books.head()"
   ]
  },
  {
   "cell_type": "code",
   "execution_count": null,
   "metadata": {
    "colab": {
     "base_uri": "https://localhost:8080/"
    },
    "executionInfo": {
     "elapsed": 680,
     "status": "ok",
     "timestamp": 1677413120835,
     "user": {
      "displayName": "Brian Baert",
      "userId": "10594924534974534320"
     },
     "user_tz": -60
    },
    "id": "FRQAxpObzr3G",
    "outputId": "f2d6039d-0e2d-4881-eaec-8d058b285b3c"
   },
   "outputs": [],
   "source": [
    "# Check for null values, replace with 'Other'\n",
    "#books. "
   ]
  },
  {
   "cell_type": "code",
   "execution_count": null,
   "metadata": {
    "colab": {
     "base_uri": "https://localhost:8080/",
     "height": 81
    },
    "executionInfo": {
     "elapsed": 124,
     "status": "ok",
     "timestamp": 1677413120840,
     "user": {
      "displayName": "Brian Baert",
      "userId": "10594924534974534320"
     },
     "user_tz": -60
    },
    "id": "EUv5XcWhzwmX",
    "outputId": "fc673203-81e8-488a-f92a-ce50fc907582"
   },
   "outputs": [],
   "source": [
    "#"
   ]
  },
  {
   "cell_type": "code",
   "execution_count": null,
   "metadata": {
    "colab": {
     "base_uri": "https://localhost:8080/",
     "height": 112
    },
    "executionInfo": {
     "elapsed": 114,
     "status": "ok",
     "timestamp": 1677413120845,
     "user": {
      "displayName": "Brian Baert",
      "userId": "10594924534974534320"
     },
     "user_tz": -60
    },
    "id": "jLuwGQaCz1zS",
    "outputId": "a5bd4b04-8c70-4805-b5d3-4d180eb4998c"
   },
   "outputs": [],
   "source": [
    "#"
   ]
  },
  {
   "cell_type": "code",
   "execution_count": null,
   "metadata": {
    "id": "8OVpJTf3z_5L"
   },
   "outputs": [],
   "source": [
    "# use books.iloc ..."
   ]
  },
  {
   "cell_type": "code",
   "execution_count": null,
   "metadata": {
    "colab": {
     "base_uri": "https://localhost:8080/"
    },
    "executionInfo": {
     "elapsed": 107,
     "status": "ok",
     "timestamp": 1677413120848,
     "user": {
      "displayName": "Brian Baert",
      "userId": "10594924534974534320"
     },
     "user_tz": -60
    },
    "id": "ZLwSKb1902tH",
    "outputId": "0d992f17-c61a-4d0c-c480-3df6482340f1"
   },
   "outputs": [],
   "source": [
    "# Check the year column, what's wrong there? \n",
    "books['Year-Of-Publication'].unique()\n",
    "# There are publishers in the year column ... "
   ]
  },
  {
   "cell_type": "code",
   "execution_count": null,
   "metadata": {
    "id": "ISS-d6Fy1Pfp"
   },
   "outputs": [],
   "source": [
    "pd.set_option('display.max_colwidth', None)"
   ]
  },
  {
   "cell_type": "code",
   "execution_count": null,
   "metadata": {
    "colab": {
     "base_uri": "https://localhost:8080/",
     "height": 112
    },
    "executionInfo": {
     "elapsed": 449,
     "status": "ok",
     "timestamp": 1677413121222,
     "user": {
      "displayName": "Brian Baert",
      "userId": "10594924534974534320"
     },
     "user_tz": -60
    },
    "id": "39D_yNIV18p6",
    "outputId": "4c75be13-a2fc-4e2e-c37b-778a7800e6bb"
   },
   "outputs": [],
   "source": [
    "#books.loc[books['...'] == 'DK Publishing Inc', :]"
   ]
  },
  {
   "cell_type": "code",
   "execution_count": null,
   "metadata": {
    "colab": {
     "base_uri": "https://localhost:8080/",
     "height": 81
    },
    "executionInfo": {
     "elapsed": 49,
     "status": "ok",
     "timestamp": 1677413121222,
     "user": {
      "displayName": "Brian Baert",
      "userId": "10594924534974534320"
     },
     "user_tz": -60
    },
    "id": "NYjTz1cj2ANi",
    "outputId": "87221ed2-d698-4709-cee2-80d6d1731836"
   },
   "outputs": [],
   "source": [
    "#books.loc[books['Year-Of-Publication'] == '...',]"
   ]
  },
  {
   "cell_type": "code",
   "execution_count": null,
   "metadata": {
    "id": "OsxhQoVi2ImS"
   },
   "outputs": [],
   "source": [
    "#books.iloc[205538]['Publisher'] = 'DK Publishing Inc'\n",
    "#books.iloc[209538]['Year-Of-Publication'] = 2000\n",
    "#books.iloc[209538]['Book-Title'] = 'DK Readers: Creating the X-Men, How It All Began (Level 4: Proficient Readers)'\n",
    "#books.iloc[209538]['Book-Author'] = 'Michael Teitelbaum'\n",
    "\n",
    "# do something similar for the other two books"
   ]
  },
  {
   "cell_type": "code",
   "execution_count": null,
   "metadata": {
    "colab": {
     "base_uri": "https://localhost:8080/"
    },
    "executionInfo": {
     "elapsed": 40,
     "status": "ok",
     "timestamp": 1677413121224,
     "user": {
      "displayName": "Brian Baert",
      "userId": "10594924534974534320"
     },
     "user_tz": -60
    },
    "id": "8AC4DOeRAKhV",
    "outputId": "a2203408-b628-4419-c938-3ac0b2029424"
   },
   "outputs": [],
   "source": [
    "# Convert the year column to int and print a list of the publication years\n",
    "# ..."
   ]
  },
  {
   "cell_type": "code",
   "execution_count": null,
   "metadata": {
    "colab": {
     "base_uri": "https://localhost:8080/"
    },
    "executionInfo": {
     "elapsed": 33,
     "status": "ok",
     "timestamp": 1677413121224,
     "user": {
      "displayName": "Brian Baert",
      "userId": "10594924534974534320"
     },
     "user_tz": -60
    },
    "id": "9LmyYmWH29Cf",
    "outputId": "684c0a29-c474-4b27-e276-d4676f0a5dc1"
   },
   "outputs": [],
   "source": [
    "# Replace invalid years with the modus of the year column\n",
    "\n",
    "# here we choose to use the built-in mode() function of the statistics library\n",
    "# it is possible to handcraft your own method as well\n",
    "import statistics\n",
    "modeYear = statistics.mode(books['Year-Of-Publication'])\n",
    "modeYear"
   ]
  },
  {
   "cell_type": "code",
   "execution_count": null,
   "metadata": {
    "id": "rSiKg6YrBJWy"
   },
   "outputs": [],
   "source": [
    "# replace the publication years that don't suffice with the mode calculated above"
   ]
  },
  {
   "cell_type": "code",
   "execution_count": null,
   "metadata": {
    "colab": {
     "base_uri": "https://localhost:8080/"
    },
    "executionInfo": {
     "elapsed": 2439,
     "status": "ok",
     "timestamp": 1677413123645,
     "user": {
      "displayName": "Brian Baert",
      "userId": "10594924534974534320"
     },
     "user_tz": -60
    },
    "id": "jcQRJVsiCKrq",
    "outputId": "a6cf24d0-2d18-4702-afef-1ba2ec43550b"
   },
   "outputs": [],
   "source": [
    "# Make sure the ISBN column is in uppercase, remove duplicates\n",
    "# ...\n",
    "\n",
    "books.info()"
   ]
  },
  {
   "cell_type": "code",
   "execution_count": null,
   "metadata": {
    "colab": {
     "base_uri": "https://localhost:8080/",
     "height": 143
    },
    "executionInfo": {
     "elapsed": 14,
     "status": "ok",
     "timestamp": 1677413123647,
     "user": {
      "displayName": "Brian Baert",
      "userId": "10594924534974534320"
     },
     "user_tz": -60
    },
    "id": "DXsS_Av2CilA",
    "outputId": "86546b9d-e698-4a89-dc18-085f5d12e277"
   },
   "outputs": [],
   "source": [
    "books.head(3)"
   ]
  },
  {
   "cell_type": "markdown",
   "metadata": {
    "id": "rM41qCqnyBwM"
   },
   "source": [
    "**Ratings**\n",
    "\n",
    "\n",
    "*   Check for null values.\n",
    "*   Cast `Rating` and `User-ID` column to `int`\n",
    "*   Make sure the ISBN column values are aligned with those of the `Books` table, otherwise drop the record.\n",
    "*   Make sure the ISBN column is in uppercase, remove duplicate rows"
   ]
  },
  {
   "cell_type": "code",
   "execution_count": null,
   "metadata": {
    "colab": {
     "base_uri": "https://localhost:8080/"
    },
    "executionInfo": {
     "elapsed": 12,
     "status": "ok",
     "timestamp": 1677413123647,
     "user": {
      "displayName": "Brian Baert",
      "userId": "10594924534974534320"
     },
     "user_tz": -60
    },
    "id": "t7O-Mb9DH5bk",
    "outputId": "4e8e4f3a-52fd-4280-a9cf-ac94410fc721"
   },
   "outputs": [],
   "source": [
    "ratings.columns"
   ]
  },
  {
   "cell_type": "code",
   "execution_count": null,
   "metadata": {
    "colab": {
     "base_uri": "https://localhost:8080/",
     "height": 206
    },
    "executionInfo": {
     "elapsed": 9,
     "status": "ok",
     "timestamp": 1677413123647,
     "user": {
      "displayName": "Brian Baert",
      "userId": "10594924534974534320"
     },
     "user_tz": -60
    },
    "id": "zDri9GNxH6Jr",
    "outputId": "2e260052-c237-43dd-beb2-daf401f3c638"
   },
   "outputs": [],
   "source": [
    "ratings.head()"
   ]
  },
  {
   "cell_type": "code",
   "execution_count": null,
   "metadata": {
    "colab": {
     "base_uri": "https://localhost:8080/"
    },
    "executionInfo": {
     "elapsed": 818,
     "status": "ok",
     "timestamp": 1677413124457,
     "user": {
      "displayName": "Brian Baert",
      "userId": "10594924534974534320"
     },
     "user_tz": -60
    },
    "id": "B811ieiXvdHO",
    "outputId": "88e0c9ce-9855-4b19-bd27-dfc557f21b42"
   },
   "outputs": [],
   "source": [
    "# Check for null values\n"
   ]
  },
  {
   "cell_type": "code",
   "execution_count": null,
   "metadata": {
    "colab": {
     "base_uri": "https://localhost:8080/"
    },
    "executionInfo": {
     "elapsed": 5,
     "status": "ok",
     "timestamp": 1677413124457,
     "user": {
      "displayName": "Brian Baert",
      "userId": "10594924534974534320"
     },
     "user_tz": -60
    },
    "id": "1sRgDbxtIWjy",
    "outputId": "4d0cc94d-5699-4ffa-b508-ad55a00c413f"
   },
   "outputs": [],
   "source": [
    "# Check Rating and User-ID column\n",
    "print(is_numeric_dtype(ratings['Book-Rating']))\n",
    "print(is_numeric_dtype(ratings['User-ID']))"
   ]
  },
  {
   "cell_type": "code",
   "execution_count": null,
   "metadata": {
    "colab": {
     "base_uri": "https://localhost:8080/"
    },
    "executionInfo": {
     "elapsed": 3788,
     "status": "ok",
     "timestamp": 1677413128243,
     "user": {
      "displayName": "Brian Baert",
      "userId": "10594924534974534320"
     },
     "user_tz": -60
    },
    "id": "-FvsvODVIGYn",
    "outputId": "16bc77fe-5f42-4425-b849-5decf87b1cca"
   },
   "outputs": [],
   "source": [
    "# Make sure the ISBN column values are aligned with those of the Books table, otherwise drop\n",
    "# This code is given\n",
    "\n",
    "## checking ISBN\n",
    "flag = 0\n",
    "k =[]\n",
    "reg = \"[^A-Za-z0-9]\"\n",
    "\n",
    "for x in ratings['ISBN']:\n",
    "    z = re.search(reg,x)    \n",
    "    if z:\n",
    "        flag = 1\n",
    "\n",
    "if flag == 1:\n",
    "    print(\"False\")\n",
    "else:\n",
    "    print(\"True\")"
   ]
  },
  {
   "cell_type": "code",
   "execution_count": null,
   "metadata": {
    "id": "qOGmGD7wIvq9"
   },
   "outputs": [],
   "source": [
    "## remove extra characters from ISBN (from ratings dataset) existing in books dataset\n",
    "bookISBN = books['ISBN'].tolist() \n",
    "reg = \"[^A-Za-z0-9]\" \n",
    "for index, row_Value in ratings.iterrows():\n",
    "    z = re.search(reg, row_Value['ISBN'])    \n",
    "    if z:\n",
    "        f = re.sub(reg,\"\",row_Value['ISBN'])\n",
    "        if f in bookISBN:\n",
    "            ratings.at[index , 'ISBN'] = f"
   ]
  },
  {
   "cell_type": "code",
   "execution_count": null,
   "metadata": {
    "colab": {
     "base_uri": "https://localhost:8080/"
    },
    "executionInfo": {
     "elapsed": 1095,
     "status": "ok",
     "timestamp": 1677413205734,
     "user": {
      "displayName": "Brian Baert",
      "userId": "10594924534974534320"
     },
     "user_tz": -60
    },
    "id": "BFTpQLdoIKib",
    "outputId": "15af2cf9-814d-4e85-ba74-b7501a55a34f"
   },
   "outputs": [],
   "source": [
    "# Make sure the ISBN column is in uppercase, remove duplicates\n",
    "# ...\n",
    "\n",
    "ratings.info()"
   ]
  },
  {
   "cell_type": "code",
   "execution_count": null,
   "metadata": {
    "colab": {
     "base_uri": "https://localhost:8080/",
     "height": 206
    },
    "executionInfo": {
     "elapsed": 24,
     "status": "ok",
     "timestamp": 1677413205735,
     "user": {
      "displayName": "Brian Baert",
      "userId": "10594924534974534320"
     },
     "user_tz": -60
    },
    "id": "9orZTK0QI--a",
    "outputId": "2b14b094-ebf0-44e4-82ba-f9cabf5f74c2"
   },
   "outputs": [],
   "source": [
    "ratings.head()"
   ]
  },
  {
   "cell_type": "markdown",
   "metadata": {
    "id": "S8xLSMxtyh4w"
   },
   "source": [
    "**Users**\n",
    "\n",
    "\n",
    "*   Check for null values.\n",
    "*   Replace the invalid ages (age should be between 10 and 80) in the `Age` column with the mean value.\n",
    "*   Split the `location` column in `City`, `State` and `Country` if a value is `null` replace it with `other`.\n",
    "*   Remove duplicate rows"
   ]
  },
  {
   "cell_type": "code",
   "execution_count": null,
   "metadata": {
    "colab": {
     "base_uri": "https://localhost:8080/"
    },
    "executionInfo": {
     "elapsed": 21,
     "status": "ok",
     "timestamp": 1677413205735,
     "user": {
      "displayName": "Brian Baert",
      "userId": "10594924534974534320"
     },
     "user_tz": -60
    },
    "id": "PycLAC1FCvF3",
    "outputId": "25444f10-a096-4c99-c797-c06bfed367ca"
   },
   "outputs": [],
   "source": [
    "users.columns"
   ]
  },
  {
   "cell_type": "code",
   "execution_count": null,
   "metadata": {
    "colab": {
     "base_uri": "https://localhost:8080/",
     "height": 143
    },
    "executionInfo": {
     "elapsed": 17,
     "status": "ok",
     "timestamp": 1677413205735,
     "user": {
      "displayName": "Brian Baert",
      "userId": "10594924534974534320"
     },
     "user_tz": -60
    },
    "id": "JsCqhBASCyyv",
    "outputId": "3b804a79-e223-4c37-8cc2-9d7402b1e6a3"
   },
   "outputs": [],
   "source": [
    "users.head(3)"
   ]
  },
  {
   "cell_type": "code",
   "execution_count": null,
   "metadata": {
    "colab": {
     "base_uri": "https://localhost:8080/"
    },
    "executionInfo": {
     "elapsed": 17,
     "status": "ok",
     "timestamp": 1677413205736,
     "user": {
      "displayName": "Brian Baert",
      "userId": "10594924534974534320"
     },
     "user_tz": -60
    },
    "id": "WnW5RYg6zFMb",
    "outputId": "2903e4cc-c0cc-443b-b2c3-0b3658a19b42"
   },
   "outputs": [],
   "source": [
    "# Check for null values\n",
    "# ..."
   ]
  },
  {
   "cell_type": "code",
   "execution_count": null,
   "metadata": {
    "colab": {
     "base_uri": "https://localhost:8080/"
    },
    "executionInfo": {
     "elapsed": 13,
     "status": "ok",
     "timestamp": 1677413205736,
     "user": {
      "displayName": "Brian Baert",
      "userId": "10594924534974534320"
     },
     "user_tz": -60
    },
    "id": "4ZZSJdzaCm7C",
    "outputId": "29d9fd8e-3b4f-4468-c571-ed0bc0250a2f"
   },
   "outputs": [],
   "source": [
    "# Replace the invalid ages, fill null values and change datatype to int\n",
    "print(sorted(list(users['Age'].unique())))"
   ]
  },
  {
   "cell_type": "code",
   "execution_count": null,
   "metadata": {
    "colab": {
     "base_uri": "https://localhost:8080/"
    },
    "executionInfo": {
     "elapsed": 11,
     "status": "ok",
     "timestamp": 1677413205736,
     "user": {
      "displayName": "Brian Baert",
      "userId": "10594924534974534320"
     },
     "user_tz": -60
    },
    "id": "gYJYXHoXC_u3",
    "outputId": "1672cb1e-0f52-493b-e04d-60857b5a516f"
   },
   "outputs": [],
   "source": [
    "validAge = #...\n",
    "\n",
    "mean = #...\n",
    "mean"
   ]
  },
  {
   "cell_type": "code",
   "execution_count": null,
   "metadata": {
    "id": "zKiRO3esDRsC"
   },
   "outputs": [],
   "source": [
    "# ..."
   ]
  },
  {
   "cell_type": "code",
   "execution_count": null,
   "metadata": {
    "colab": {
     "base_uri": "https://localhost:8080/"
    },
    "executionInfo": {
     "elapsed": 16517,
     "status": "ok",
     "timestamp": 1677413222244,
     "user": {
      "displayName": "Brian Baert",
      "userId": "10594924534974534320"
     },
     "user_tz": -60
    },
    "id": "IlPRLcL7CokT",
    "outputId": "5b1b6d16-b3cd-4e2c-c6a8-8e9ac0b746ba"
   },
   "outputs": [],
   "source": [
    "# Split the location column appropriately\n",
    "# this code is given\n",
    "\n",
    "list_ = users.Location.str.split(', ')\n",
    "\n",
    "city = []\n",
    "state = []\n",
    "country = []\n",
    "count_no_state = 0    \n",
    "count_no_country = 0\n",
    "\n",
    "for i in range(0,len(list_)):\n",
    "    if list_[i][0] == ' ' or list_[i][0] == '' or list_[i][0]=='n/a' or list_[i][0] == ',':  #removing invalid entries too\n",
    "        city.append('other')\n",
    "    else:\n",
    "        city.append(list_[i][0].lower())\n",
    "\n",
    "    if(len(list_[i])<2):\n",
    "        state.append('other')\n",
    "        country.append('other')\n",
    "        count_no_state += 1\n",
    "        count_no_country += 1\n",
    "    else:\n",
    "        if list_[i][1] == ' ' or list_[i][1] == '' or list_[i][1]=='n/a' or list_[i][1] == ',':   #removing invalid entries \n",
    "            state.append('other')\n",
    "            count_no_state += 1            \n",
    "        else:\n",
    "            state.append(list_[i][1].lower())\n",
    "        \n",
    "        if(len(list_[i])<3):\n",
    "            country.append('other')\n",
    "            count_no_country += 1\n",
    "        else:\n",
    "            if list_[i][2] == ''or list_[i][1] == ',' or list_[i][2] == ' ' or list_[i][2] == 'n/a':\n",
    "                country.append('other')\n",
    "                count_no_country += 1\n",
    "            else:\n",
    "                country.append(list_[i][2].lower())\n",
    "        \n",
    "users = users.drop('Location',axis=1)\n",
    "\n",
    "temp = []\n",
    "for ent in city:\n",
    "    c = ent.split('/')            #handling cases where city/state entries from city list as state is already given \n",
    "    temp.append(c[0])\n",
    "\n",
    "df_city = pd.DataFrame(temp,columns=['City'])\n",
    "df_state = pd.DataFrame(state,columns=['State'])\n",
    "df_country = pd.DataFrame(country,columns=['Country'])\n",
    "\n",
    "users = pd.concat([users, df_city], axis=1)\n",
    "users = pd.concat([users, df_state], axis=1)\n",
    "users = pd.concat([users, df_country], axis=1)\n",
    "\n",
    "print(count_no_country)   #printing the number of countries didnt have any values \n",
    "print(count_no_state)     #printing the states which didnt have any values"
   ]
  },
  {
   "cell_type": "code",
   "execution_count": null,
   "metadata": {
    "id": "IicvJz10Crwf"
   },
   "outputs": [],
   "source": [
    "# Remove duplicate rows and don't forget to reset the index!!\n",
    "# ..."
   ]
  },
  {
   "cell_type": "code",
   "execution_count": null,
   "metadata": {
    "colab": {
     "base_uri": "https://localhost:8080/"
    },
    "executionInfo": {
     "elapsed": 8,
     "status": "ok",
     "timestamp": 1677413222667,
     "user": {
      "displayName": "Brian Baert",
      "userId": "10594924534974534320"
     },
     "user_tz": -60
    },
    "id": "rTmvponsCtIM",
    "outputId": "922aefe6-62fc-487d-ffa3-74869835d882"
   },
   "outputs": [],
   "source": [
    "users.info()"
   ]
  },
  {
   "cell_type": "code",
   "execution_count": null,
   "metadata": {
    "colab": {
     "base_uri": "https://localhost:8080/",
     "height": 206
    },
    "executionInfo": {
     "elapsed": 6,
     "status": "ok",
     "timestamp": 1677413222667,
     "user": {
      "displayName": "Brian Baert",
      "userId": "10594924534974534320"
     },
     "user_tz": -60
    },
    "id": "tmYioiRVEBSX",
    "outputId": "edeedf23-1436-4dee-c9c3-25d4d8538fbf"
   },
   "outputs": [],
   "source": [
    "users.head()"
   ]
  },
  {
   "cell_type": "markdown",
   "metadata": {
    "id": "YtdpIm-tJKer"
   },
   "source": [
    "**Merge the tables**\n",
    "\n",
    "Merge (inner join) the `Books`, `Users` and `Ratings` tables to one"
   ]
  },
  {
   "cell_type": "code",
   "execution_count": null,
   "metadata": {
    "colab": {
     "base_uri": "https://localhost:8080/"
    },
    "executionInfo": {
     "elapsed": 3026,
     "status": "ok",
     "timestamp": 1677413225688,
     "user": {
      "displayName": "Brian Baert",
      "userId": "10594924534974534320"
     },
     "user_tz": -60
    },
    "id": "AuxFLNJYEB8I",
    "outputId": "3a0f5f33-b287-440b-b1cb-8cf1c516b349"
   },
   "outputs": [],
   "source": [
    "dataset = pd.merge(books, ratings, on='ISBN', how='inner')\n",
    "dataset = pd.merge(dataset, users, on='User-ID', how='inner')\n",
    "dataset.info()"
   ]
  },
  {
   "cell_type": "markdown",
   "metadata": {
    "id": "inG4pJoXJ8SX"
   },
   "source": [
    "**Split the dataset**\n",
    "\n",
    "Splitting is done on the `Book-Rating` column, it can have an implicit rating (equal to 0) or and explicit rating (!= 0)"
   ]
  },
  {
   "cell_type": "code",
   "execution_count": null,
   "metadata": {
    "colab": {
     "base_uri": "https://localhost:8080/"
    },
    "executionInfo": {
     "elapsed": 838,
     "status": "ok",
     "timestamp": 1677413226523,
     "user": {
      "displayName": "Brian Baert",
      "userId": "10594924534974534320"
     },
     "user_tz": -60
    },
    "id": "vcJ9BoH_JqO4",
    "outputId": "c4d5b573-a037-48c9-a077-e907fafee74c"
   },
   "outputs": [],
   "source": [
    "explicit = dataset[dataset['Book-Rating'] != 0]\n",
    "explicit = explicit.reset_index(drop=True)\n",
    "explicit.shape"
   ]
  },
  {
   "cell_type": "code",
   "execution_count": null,
   "metadata": {
    "colab": {
     "base_uri": "https://localhost:8080/"
    },
    "executionInfo": {
     "elapsed": 456,
     "status": "ok",
     "timestamp": 1677413226975,
     "user": {
      "displayName": "Brian Baert",
      "userId": "10594924534974534320"
     },
     "user_tz": -60
    },
    "id": "tN6mdPltKRZK",
    "outputId": "328ad6cb-93b6-4678-b7de-cd23c2c466bf"
   },
   "outputs": [],
   "source": [
    "implicit = dataset[dataset['Book-Rating'] == 0]\n",
    "implicit = implicit.reset_index(drop=True)\n",
    "implicit.shape"
   ]
  },
  {
   "cell_type": "code",
   "execution_count": null,
   "metadata": {
    "id": "30sdjZYHKrmo"
   },
   "outputs": [],
   "source": []
  },
  {
   "cell_type": "markdown",
   "metadata": {
    "id": "OA1pGNVaKh8i"
   },
   "source": [
    "##2 - Recommendation systems\n",
    "\n",
    "**2.1 - Most popular book**\n",
    "\n",
    "Sort the entire dataset on the ratings and recommend the top $n$ books.\n",
    "\n",
    "**2.2 - Most popular book in a country**\n",
    "\n",
    "Sort the entire dataset like in 2.1, but now filter according to a country to recommend the top $n$ books.\n",
    "\n",
    "**2.3 - Use the average weighted rating**\n",
    "\n",
    "Calculate the weighted score with: \n",
    "\\begin{equation}WR = \\left({{v} \\over {v} + {m}} \\cdot R\\right) + \\left({{ m} \\over { v} + { m}} \\cdot C\\right) \\end{equation}\n",
    "\n",
    "where:\n",
    "\n",
    "*   $v$ (```rating_count```) is the number of ratings received\n",
    "*   $m$ is the minimum number of total ratings to be listed\n",
    "*   $R$ (```rating_average```) is the average rating of the book\n",
    "*   $C$ is the mean rating across all books\n",
    "\n",
    "**2.4 Collaborative Filter - User-item based**\n",
    "\n",
    "CF system with cosine similarity in ratings by different users to recommend the books. Prefer to take a subset of books with high ratings.\n",
    "\n",
    "**2.5 Content based Filter**\n",
    "\n",
    "Calculate similarities in Book Titles, make use of the TF-IDF feature vector. Because of computational issues, prefer only books with very high ratings.\n"
   ]
  },
  {
   "cell_type": "code",
   "execution_count": null,
   "metadata": {
    "id": "1SvrXw86NWOh"
   },
   "outputs": [],
   "source": [
    "# We make sure our system is dynamic, so we first ask the user for a book name and the number of books to recommend\n",
    "bookName = input(\"What book do you like? \") # Harry Potter and the Sorcerer's Stone (Harry Potter (Paperback))\n",
    "nrOfRec = int(input(\"How many books do you want us to recommend? \")) #5"
   ]
  },
  {
   "cell_type": "code",
   "execution_count": null,
   "metadata": {
    "id": "-1LoZxWOKYPP"
   },
   "outputs": [],
   "source": [
    "# Most popular book\n",
    "def mostPopularBook(dataframe, n):\n",
    "  if (n >= 1 and n <= len(dataframe)):\n",
    "    data = #...\n",
    "    result = #...\n",
    "    return result\n",
    "  return \"Invalid nr of books entered.\""
   ]
  },
  {
   "cell_type": "code",
   "execution_count": null,
   "metadata": {
    "colab": {
     "base_uri": "https://localhost:8080/",
     "height": 225
    },
    "executionInfo": {
     "elapsed": 456,
     "status": "ok",
     "timestamp": 1677413234447,
     "user": {
      "displayName": "Brian Baert",
      "userId": "10594924534974534320"
     },
     "user_tz": -60
    },
    "id": "nBqcaADIOKDH",
    "outputId": "7cd49212-eaf9-40e0-fd6b-4d0d6774f74a"
   },
   "outputs": [],
   "source": [
    "print(\"We recommend \", nrOfRec, \" popular books: \")\n",
    "mostPopularBook(explicit, nrOfRec)"
   ]
  },
  {
   "cell_type": "code",
   "execution_count": null,
   "metadata": {
    "colab": {
     "base_uri": "https://localhost:8080/",
     "height": 225
    },
    "executionInfo": {
     "elapsed": 5472,
     "status": "ok",
     "timestamp": 1677413239915,
     "user": {
      "displayName": "Brian Baert",
      "userId": "10594924534974534320"
     },
     "user_tz": -60
    },
    "id": "2Xfpa70yNI_1",
    "outputId": "8d537248-5c24-4430-b538-023feeaeb078"
   },
   "outputs": [],
   "source": [
    "# Most popular book in a country\n",
    "place = input(\"Enter the name of a country: \").lower() # India\n",
    "booksPerCountry = #...\n",
    "mostPopularBook(booksPerCountry,nrOfRec)"
   ]
  },
  {
   "cell_type": "code",
   "execution_count": null,
   "metadata": {
    "id": "9pRFMeA3NLGZ"
   },
   "outputs": [],
   "source": [
    "# Average Weighted Rating\n",
    "def avgWR(newdf, df):\n",
    "  newdf['Average Rating'] = 0\n",
    "  for x in range(len(newdf)):\n",
    "    #...\n",
    "  return newdf"
   ]
  },
  {
   "cell_type": "code",
   "execution_count": null,
   "metadata": {
    "id": "bBLCD1YlQvMh"
   },
   "outputs": [],
   "source": [
    "counts = explicit['Book-Title'].value_counts()\n",
    "df = pd.DataFrame()\n",
    "df['Book-Title'] = counts.index\n",
    "df['Total-Ratings'] = df['Book-Title'].map(lambda item : counts[item])\n",
    "\n",
    "#df = avgWR(df, explicit)\n",
    "#df.to_pickle('weightedData.pkl')"
   ]
  },
  {
   "cell_type": "code",
   "execution_count": null,
   "metadata": {
    "id": "D_82cXU2RNud"
   },
   "outputs": [],
   "source": [
    "# if the pickle file is already made:\n",
    "df = pd.read_pickle('Books/weightedData.pkl')\n"
   ]
  },
  {
   "cell_type": "code",
   "execution_count": null,
   "metadata": {
    "id": "WyyfI9STe2HP"
   },
   "outputs": [],
   "source": [
    "C = #...\n",
    "m = #..."
   ]
  },
  {
   "cell_type": "code",
   "execution_count": null,
   "metadata": {
    "id": "pJrMljokfGtW"
   },
   "outputs": [],
   "source": [
    "def WR(x,m=m,C=C):\n",
    "  v = #...\n",
    "  R = #...\n",
    "  return #..."
   ]
  },
  {
   "cell_type": "code",
   "execution_count": null,
   "metadata": {
    "colab": {
     "base_uri": "https://localhost:8080/",
     "height": 243
    },
    "executionInfo": {
     "elapsed": 310,
     "status": "ok",
     "timestamp": 1677413240684,
     "user": {
      "displayName": "Brian Baert",
      "userId": "10594924534974534320"
     },
     "user_tz": -60
    },
    "id": "-dZVfY82frCh",
    "outputId": "d2f80851-f537-44da-c41e-d55b1cbc03ff"
   },
   "outputs": [],
   "source": [
    "df = #df.loc[...]\n",
    "\n",
    "df['score'] = df.apply(WR, axis=1)\n",
    "df = df.sort_values('score', ascending=False)\n",
    "\n",
    "print(\"Because you like \", bookName, \", we recommend the following \", nrOfRec, \" books: \\n\")\n",
    "df.head(nrOfRec)"
   ]
  },
  {
   "cell_type": "code",
   "execution_count": null,
   "metadata": {
    "id": "nMq7QBMHNNCY"
   },
   "outputs": [],
   "source": [
    "# Collaborative Filter (User-Item based)\n",
    "# we pick only books with a rating > 60\n",
    "counts = explicit['Book-Title'].value_counts()\n",
    "df = pd.DataFrame()\n",
    "df['Book-Title'] = counts.index\n",
    "df['Total-Ratings'] = df['Book-Title'].map(lambda item: counts[item])\n",
    "\n",
    "df = explicit.merge(df, left_on='Book-Title', right_on='Book-Title', how='left')\n",
    "df = df.drop(['Year-Of-Publication', 'Publisher', 'Age', 'City', 'State', 'Country'], axis=1)"
   ]
  },
  {
   "cell_type": "code",
   "execution_count": null,
   "metadata": {
    "id": "Zfp1ZYOAg7R4"
   },
   "outputs": [],
   "source": [
    "# set the treshold to 60 and filter out the books with ratings >= 60\n",
    "#...\n"
   ]
  },
  {
   "cell_type": "code",
   "execution_count": null,
   "metadata": {
    "id": "Hz7YrH_4hRrq"
   },
   "outputs": [],
   "source": [
    "# User-Item CF\n",
    "# first create a new dataframe grouped by ISBN number (index) and only containing User-ID and Book-Rating\n",
    "userRatingDf = #..\n",
    "#...\n"
   ]
  },
  {
   "cell_type": "code",
   "execution_count": null,
   "metadata": {
    "id": "de7GZaLSiyBo"
   },
   "outputs": [],
   "source": [
    "# Vectorizing the group keys and calculating the similarity matrix\n",
    "listOfDictonaries=[]\n",
    "indexMap = {}\n",
    "reverseIndexMap = {}\n",
    "ptr=0\n",
    "\n",
    "for groupKey in userRatingDf.groups.keys():  #this runs over all isbn numbers\n",
    "    tempDict={}\n",
    "    groupDF = userRatingDf.get_group(groupKey)\n",
    "    for i in range(0,len(groupDF)):\n",
    "        tempDict[groupDF.iloc[i,0]] = groupDF.iloc[i,1]\n",
    "    indexMap[ptr]=groupKey\n",
    "    reverseIndexMap[groupKey] = ptr\n",
    "    ptr=ptr+1\n",
    "    listOfDictonaries.append(tempDict)\n",
    "\n",
    "dictVectorizer = DictVectorizer(sparse=True)\n",
    "vector = dictVectorizer.fit_transform(listOfDictonaries)\n",
    "pairwiseSimilarity = #cosine similarity on vector"
   ]
  },
  {
   "cell_type": "code",
   "execution_count": null,
   "metadata": {
    "id": "-Ncv0qm6jcqN"
   },
   "outputs": [],
   "source": [
    "# make a function to print all book details\n",
    "def printDetails(bookID):\n",
    "  #print(...)"
   ]
  },
  {
   "cell_type": "code",
   "execution_count": null,
   "metadata": {
    "id": "rUQpPTeGjrYu"
   },
   "outputs": [],
   "source": [
    "# make a function to give the top n recommendations\n",
    "def getCFRec(bookID):\n",
    "  CFRecList = []\n",
    "  row = reverseIndexMap[bookID]\n",
    "  print(\"Input book: \", printDetails(bookID), \"\\n recommendations: \\n\")\n",
    "  mn=0\n",
    "  similar=[]\n",
    "  print(row)\n",
    "  #for i in np.argsort(pairwiseSimilarity[row])[:-2][::-1]:\n",
    "    # ...\n",
    "    # ...\n",
    "    # ...\n",
    "      #CFRecList.append(...)\n",
    "  return CFRecList"
   ]
  },
  {
   "cell_type": "code",
   "execution_count": null,
   "metadata": {
    "colab": {
     "base_uri": "https://localhost:8080/"
    },
    "executionInfo": {
     "elapsed": 1335,
     "status": "ok",
     "timestamp": 1677413955947,
     "user": {
      "displayName": "Brian Baert",
      "userId": "10594924534974534320"
     },
     "user_tz": -60
    },
    "id": "JCZCBdb4krb1",
    "outputId": "312e2e09-90e0-4b76-a7b7-570d620902eb"
   },
   "outputs": [],
   "source": [
    "k = list(explicit['Book-Title'])\n",
    "m = list(explicit['ISBN'])\n",
    "\n",
    "CFRecList = getCFRec(m[k.index(bookName)])"
   ]
  },
  {
   "cell_type": "code",
   "execution_count": null,
   "metadata": {
    "id": "8ybKyBkQNNcU"
   },
   "outputs": [],
   "source": [
    "# Content Based Filter\n",
    "# we first select books with a very high rating > 80\n",
    "treshold = #...\n",
    "#..."
   ]
  },
  {
   "cell_type": "code",
   "execution_count": null,
   "metadata": {
    "colab": {
     "base_uri": "https://localhost:8080/"
    },
    "executionInfo": {
     "elapsed": 1970,
     "status": "ok",
     "timestamp": 1677414081488,
     "user": {
      "displayName": "Brian Baert",
      "userId": "10594924534974534320"
     },
     "user_tz": -60
    },
    "id": "GHR6eDq9qyOx",
    "outputId": "9dfe341e-a717-475d-c467-f27b89834843"
   },
   "outputs": [],
   "source": [
    "# create the TF-IDF vectorizer\n",
    "#...\n",
    "#...\n",
    "tfidf_matrix.shape"
   ]
  },
  {
   "cell_type": "code",
   "execution_count": null,
   "metadata": {
    "colab": {
     "base_uri": "https://localhost:8080/"
    },
    "executionInfo": {
     "elapsed": 17718,
     "status": "ok",
     "timestamp": 1677414122142,
     "user": {
      "displayName": "Brian Baert",
      "userId": "10594924534974534320"
     },
     "user_tz": -60
    },
    "id": "eL0tCJBuq5mG",
    "outputId": "a6e6bead-55f3-437c-b798-e0a60c9a9cdb"
   },
   "outputs": [],
   "source": [
    "# normalize the dataframe and calculate the cosine similarity matrix\n",
    "#...\n",
    "#...\n",
    "cosine_similarities.shape"
   ]
  },
  {
   "cell_type": "code",
   "execution_count": null,
   "metadata": {
    "colab": {
     "base_uri": "https://localhost:8080/"
    },
    "executionInfo": {
     "elapsed": 2154,
     "status": "ok",
     "timestamp": 1677414200990,
     "user": {
      "displayName": "Brian Baert",
      "userId": "10594924534974534320"
     },
     "user_tz": -60
    },
    "id": "1Jm7bukZq_p8",
    "outputId": "9da239cd-a4c1-48d1-a472-305551b29ab4"
   },
   "outputs": [],
   "source": [
    "# print the recommended books according to the content filter\n",
    "print(\"The content filter recommends the following books:\\n\")\n",
    "isbn = books.loc[books['Book-Title'] == bookName].reset_index(drop = True).iloc[0]['ISBN']\n",
    "content = []\n",
    "\n",
    "idx = subsetExplicit.index[subsetExplicit['ISBN'] == isbn].tolist()[0]\n",
    "similar_indices = cosine_similarities[idx].argsort()[::-1]\n",
    "similar_items = []\n",
    "for i in similar_indices:\n",
    "#...\n",
    "#...\n",
    "#...\n",
    "\n",
    "for book in similar_items:\n",
    "    print(book)"
   ]
  }
 ],
 "metadata": {
  "colab": {
   "authorship_tag": "ABX9TyPazNXfkT4ua9I2gPI7Js/C",
   "mount_file_id": "1-dZUQeQ87W6emhj_M_j4FzHupSooKZou",
   "provenance": [
    {
     "file_id": "1-dZUQeQ87W6emhj_M_j4FzHupSooKZou",
     "timestamp": 1677414230579
    }
   ]
  },
  "kernelspec": {
   "display_name": "Python 3",
   "name": "python3"
  },
  "language_info": {
   "name": "python"
  }
 },
 "nbformat": 4,
 "nbformat_minor": 0
}
