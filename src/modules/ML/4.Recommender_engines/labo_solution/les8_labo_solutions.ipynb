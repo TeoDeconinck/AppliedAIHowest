{
 "cells": [
  {
   "cell_type": "markdown",
   "metadata": {
    "id": "ugnS7zgHvPDv"
   },
   "source": [
    "## ML - Recommender Systems - Lab - SOLUTION\n",
    "We work on a dataset with 3 tables\n",
    "\n",
    "\n",
    "1.   Books\n",
    "2.   Users\n",
    "3.   Ratings\n",
    "\n"
   ]
  },
  {
   "cell_type": "code",
   "metadata": {
    "executionInfo": {
     "elapsed": 1780,
     "status": "ok",
     "timestamp": 1677413115547,
     "user": {
      "displayName": "Brian Baert",
      "userId": "10594924534974534320"
     },
     "user_tz": -60
    },
    "id": "UZgCOsUzv1_a",
    "ExecuteTime": {
     "end_time": "2025-05-26T16:13:44.783822Z",
     "start_time": "2025-05-26T16:13:44.775894Z"
    }
   },
   "source": [
    "# The following imports are needed throughout the lab exercise\n",
    "import re\n",
    "import pickle\n",
    "import operator\n",
    "import numpy as np\n",
    "import pandas as pd\n",
    "import seaborn as sns\n",
    "import matplotlib.pyplot as plt\n",
    "from collections import Counter\n",
    "from scipy.sparse import csr_matrix\n",
    "from pandas.api.types import is_numeric_dtype\n",
    "from sklearn.neighbors import NearestNeighbors\n",
    "from sklearn.feature_extraction import DictVectorizer\n",
    "from sklearn.metrics.pairwise import cosine_similarity\n",
    "from sklearn.feature_extraction.text import TfidfVectorizer\n",
    "\n",
    "import warnings\n",
    "warnings.filterwarnings(\"ignore\")"
   ],
   "outputs": [],
   "execution_count": 3
  },
  {
   "cell_type": "markdown",
   "metadata": {
    "id": "Gimlkluev7_-"
   },
   "source": [
    "##0 - Read in the dataset"
   ]
  },
  {
   "cell_type": "code",
   "metadata": {
    "colab": {
     "base_uri": "https://localhost:8080/"
    },
    "executionInfo": {
     "elapsed": 4618,
     "status": "ok",
     "timestamp": 1677413120162,
     "user": {
      "displayName": "Brian Baert",
      "userId": "10594924534974534320"
     },
     "user_tz": -60
    },
    "id": "Aejt8F3mv_Gq",
    "outputId": "92f46bd5-c8b3-4c21-b29d-3bf05c9722ca",
    "ExecuteTime": {
     "end_time": "2025-05-26T16:13:46.994035Z",
     "start_time": "2025-05-26T16:13:44.815965Z"
    }
   },
   "source": [
    "books = pd.read_csv('Books/Books.csv', delimiter=';', encoding='ISO-8859-1', on_bad_lines='skip')\n",
    "users = pd.read_csv('Books/Users.csv', delimiter=';', encoding='ISO-8859-1', on_bad_lines='skip')\n",
    "ratings = pd.read_csv('Books/Ratings.csv', delimiter=';', encoding='ISO-8859-1', on_bad_lines='skip')\n",
    "\n",
    "books.shape\n",
    "users.shape\n",
    "ratings.shape"
   ],
   "outputs": [
    {
     "data": {
      "text/plain": [
       "(1149780, 3)"
      ]
     },
     "execution_count": 4,
     "metadata": {},
     "output_type": "execute_result"
    }
   ],
   "execution_count": 4
  },
  {
   "cell_type": "markdown",
   "metadata": {
    "id": "yvTCE1NCveq9"
   },
   "source": [
    "##1 - Data pre-processing\n",
    "The following steps should be done on the datasets: \n",
    "\n",
    "**Books**\n",
    "\n",
    "\n",
    "*   Drop the Image URL features\n",
    "*   Check for null values, replace with 'Other' (Hint: use `.loc` and `.iloc`)\n",
    "*   Check the `Year-Of-Publication` column, what's wrong there? (Before 'fixing' the issue, it is better to increase the column width so the entire value of `Book-Title`can be seen (there is hidden information in that field)\n",
    "*   There are three tuples with another anomaly, can you find them? Fix it manually\n",
    "*   Convert publication year to `int`\n",
    "*   Replace invalid years with the modus of the year column\n",
    "*   Make sure the ISBN column is in uppercase, remove duplicate rows"
   ]
  },
  {
   "cell_type": "code",
   "metadata": {
    "colab": {
     "base_uri": "https://localhost:8080/"
    },
    "executionInfo": {
     "elapsed": 14,
     "status": "ok",
     "timestamp": 1677413120163,
     "user": {
      "displayName": "Brian Baert",
      "userId": "10594924534974534320"
     },
     "user_tz": -60
    },
    "id": "VeJks9kjvMmK",
    "outputId": "973d6904-93a9-4783-c689-80ad2852fad6",
    "ExecuteTime": {
     "end_time": "2025-05-26T16:13:47.088740Z",
     "start_time": "2025-05-26T16:13:47.072011Z"
    }
   },
   "source": [
    "#Fill in the code\n",
    "books.columns"
   ],
   "outputs": [
    {
     "data": {
      "text/plain": [
       "Index(['ISBN', 'Book-Title', 'Book-Author', 'Year-Of-Publication', 'Publisher',\n",
       "       'Image-URL-S', 'Image-URL-M', 'Image-URL-L'],\n",
       "      dtype='object')"
      ]
     },
     "execution_count": 5,
     "metadata": {},
     "output_type": "execute_result"
    }
   ],
   "execution_count": 5
  },
  {
   "cell_type": "code",
   "metadata": {
    "colab": {
     "base_uri": "https://localhost:8080/",
     "height": 337
    },
    "executionInfo": {
     "elapsed": 10,
     "status": "ok",
     "timestamp": 1677413120163,
     "user": {
      "displayName": "Brian Baert",
      "userId": "10594924534974534320"
     },
     "user_tz": -60
    },
    "id": "56NaQdgdzaU2",
    "outputId": "d0195362-56d4-4663-d96f-4c05aa6f8892",
    "ExecuteTime": {
     "end_time": "2025-05-26T16:13:47.282835Z",
     "start_time": "2025-05-26T16:13:47.248975Z"
    }
   },
   "source": [
    "books.head()"
   ],
   "outputs": [
    {
     "data": {
      "text/plain": [
       "         ISBN                                         Book-Title  \\\n",
       "0  0195153448                                Classical Mythology   \n",
       "1  0002005018                                       Clara Callan   \n",
       "2  0060973129                               Decision in Normandy   \n",
       "3  0374157065  Flu: The Story of the Great Influenza Pandemic...   \n",
       "4  0393045218                             The Mummies of Urumchi   \n",
       "\n",
       "            Book-Author Year-Of-Publication                   Publisher  \\\n",
       "0    Mark P. O. Morford                2002     Oxford University Press   \n",
       "1  Richard Bruce Wright                2001       HarperFlamingo Canada   \n",
       "2          Carlo D'Este                1991             HarperPerennial   \n",
       "3      Gina Bari Kolata                1999        Farrar Straus Giroux   \n",
       "4       E. J. W. Barber                1999  W. W. Norton &amp; Company   \n",
       "\n",
       "                                         Image-URL-S  \\\n",
       "0  http://images.amazon.com/images/P/0195153448.0...   \n",
       "1  http://images.amazon.com/images/P/0002005018.0...   \n",
       "2  http://images.amazon.com/images/P/0060973129.0...   \n",
       "3  http://images.amazon.com/images/P/0374157065.0...   \n",
       "4  http://images.amazon.com/images/P/0393045218.0...   \n",
       "\n",
       "                                         Image-URL-M  \\\n",
       "0  http://images.amazon.com/images/P/0195153448.0...   \n",
       "1  http://images.amazon.com/images/P/0002005018.0...   \n",
       "2  http://images.amazon.com/images/P/0060973129.0...   \n",
       "3  http://images.amazon.com/images/P/0374157065.0...   \n",
       "4  http://images.amazon.com/images/P/0393045218.0...   \n",
       "\n",
       "                                         Image-URL-L  \n",
       "0  http://images.amazon.com/images/P/0195153448.0...  \n",
       "1  http://images.amazon.com/images/P/0002005018.0...  \n",
       "2  http://images.amazon.com/images/P/0060973129.0...  \n",
       "3  http://images.amazon.com/images/P/0374157065.0...  \n",
       "4  http://images.amazon.com/images/P/0393045218.0...  "
      ],
      "text/html": [
       "<div>\n",
       "<style scoped>\n",
       "    .dataframe tbody tr th:only-of-type {\n",
       "        vertical-align: middle;\n",
       "    }\n",
       "\n",
       "    .dataframe tbody tr th {\n",
       "        vertical-align: top;\n",
       "    }\n",
       "\n",
       "    .dataframe thead th {\n",
       "        text-align: right;\n",
       "    }\n",
       "</style>\n",
       "<table border=\"1\" class=\"dataframe\">\n",
       "  <thead>\n",
       "    <tr style=\"text-align: right;\">\n",
       "      <th></th>\n",
       "      <th>ISBN</th>\n",
       "      <th>Book-Title</th>\n",
       "      <th>Book-Author</th>\n",
       "      <th>Year-Of-Publication</th>\n",
       "      <th>Publisher</th>\n",
       "      <th>Image-URL-S</th>\n",
       "      <th>Image-URL-M</th>\n",
       "      <th>Image-URL-L</th>\n",
       "    </tr>\n",
       "  </thead>\n",
       "  <tbody>\n",
       "    <tr>\n",
       "      <th>0</th>\n",
       "      <td>0195153448</td>\n",
       "      <td>Classical Mythology</td>\n",
       "      <td>Mark P. O. Morford</td>\n",
       "      <td>2002</td>\n",
       "      <td>Oxford University Press</td>\n",
       "      <td>http://images.amazon.com/images/P/0195153448.0...</td>\n",
       "      <td>http://images.amazon.com/images/P/0195153448.0...</td>\n",
       "      <td>http://images.amazon.com/images/P/0195153448.0...</td>\n",
       "    </tr>\n",
       "    <tr>\n",
       "      <th>1</th>\n",
       "      <td>0002005018</td>\n",
       "      <td>Clara Callan</td>\n",
       "      <td>Richard Bruce Wright</td>\n",
       "      <td>2001</td>\n",
       "      <td>HarperFlamingo Canada</td>\n",
       "      <td>http://images.amazon.com/images/P/0002005018.0...</td>\n",
       "      <td>http://images.amazon.com/images/P/0002005018.0...</td>\n",
       "      <td>http://images.amazon.com/images/P/0002005018.0...</td>\n",
       "    </tr>\n",
       "    <tr>\n",
       "      <th>2</th>\n",
       "      <td>0060973129</td>\n",
       "      <td>Decision in Normandy</td>\n",
       "      <td>Carlo D'Este</td>\n",
       "      <td>1991</td>\n",
       "      <td>HarperPerennial</td>\n",
       "      <td>http://images.amazon.com/images/P/0060973129.0...</td>\n",
       "      <td>http://images.amazon.com/images/P/0060973129.0...</td>\n",
       "      <td>http://images.amazon.com/images/P/0060973129.0...</td>\n",
       "    </tr>\n",
       "    <tr>\n",
       "      <th>3</th>\n",
       "      <td>0374157065</td>\n",
       "      <td>Flu: The Story of the Great Influenza Pandemic...</td>\n",
       "      <td>Gina Bari Kolata</td>\n",
       "      <td>1999</td>\n",
       "      <td>Farrar Straus Giroux</td>\n",
       "      <td>http://images.amazon.com/images/P/0374157065.0...</td>\n",
       "      <td>http://images.amazon.com/images/P/0374157065.0...</td>\n",
       "      <td>http://images.amazon.com/images/P/0374157065.0...</td>\n",
       "    </tr>\n",
       "    <tr>\n",
       "      <th>4</th>\n",
       "      <td>0393045218</td>\n",
       "      <td>The Mummies of Urumchi</td>\n",
       "      <td>E. J. W. Barber</td>\n",
       "      <td>1999</td>\n",
       "      <td>W. W. Norton &amp;amp; Company</td>\n",
       "      <td>http://images.amazon.com/images/P/0393045218.0...</td>\n",
       "      <td>http://images.amazon.com/images/P/0393045218.0...</td>\n",
       "      <td>http://images.amazon.com/images/P/0393045218.0...</td>\n",
       "    </tr>\n",
       "  </tbody>\n",
       "</table>\n",
       "</div>"
      ]
     },
     "execution_count": 6,
     "metadata": {},
     "output_type": "execute_result"
    }
   ],
   "execution_count": 6
  },
  {
   "cell_type": "code",
   "metadata": {
    "colab": {
     "base_uri": "https://localhost:8080/",
     "height": 206
    },
    "executionInfo": {
     "elapsed": 9,
     "status": "ok",
     "timestamp": 1677413120164,
     "user": {
      "displayName": "Brian Baert",
      "userId": "10594924534974534320"
     },
     "user_tz": -60
    },
    "id": "PrVb3arBzcWG",
    "outputId": "3963f044-bceb-47a6-9f70-747e4f3e0037",
    "ExecuteTime": {
     "end_time": "2025-05-26T16:13:47.485328Z",
     "start_time": "2025-05-26T16:13:47.444713Z"
    }
   },
   "source": [
    "# Drop the image URL features\n",
    "books.drop(['Image-URL-S', 'Image-URL-M', 'Image-URL-L'], axis=1, inplace=True)\n",
    "books.head()"
   ],
   "outputs": [
    {
     "data": {
      "text/plain": [
       "         ISBN                                         Book-Title  \\\n",
       "0  0195153448                                Classical Mythology   \n",
       "1  0002005018                                       Clara Callan   \n",
       "2  0060973129                               Decision in Normandy   \n",
       "3  0374157065  Flu: The Story of the Great Influenza Pandemic...   \n",
       "4  0393045218                             The Mummies of Urumchi   \n",
       "\n",
       "            Book-Author Year-Of-Publication                   Publisher  \n",
       "0    Mark P. O. Morford                2002     Oxford University Press  \n",
       "1  Richard Bruce Wright                2001       HarperFlamingo Canada  \n",
       "2          Carlo D'Este                1991             HarperPerennial  \n",
       "3      Gina Bari Kolata                1999        Farrar Straus Giroux  \n",
       "4       E. J. W. Barber                1999  W. W. Norton &amp; Company  "
      ],
      "text/html": [
       "<div>\n",
       "<style scoped>\n",
       "    .dataframe tbody tr th:only-of-type {\n",
       "        vertical-align: middle;\n",
       "    }\n",
       "\n",
       "    .dataframe tbody tr th {\n",
       "        vertical-align: top;\n",
       "    }\n",
       "\n",
       "    .dataframe thead th {\n",
       "        text-align: right;\n",
       "    }\n",
       "</style>\n",
       "<table border=\"1\" class=\"dataframe\">\n",
       "  <thead>\n",
       "    <tr style=\"text-align: right;\">\n",
       "      <th></th>\n",
       "      <th>ISBN</th>\n",
       "      <th>Book-Title</th>\n",
       "      <th>Book-Author</th>\n",
       "      <th>Year-Of-Publication</th>\n",
       "      <th>Publisher</th>\n",
       "    </tr>\n",
       "  </thead>\n",
       "  <tbody>\n",
       "    <tr>\n",
       "      <th>0</th>\n",
       "      <td>0195153448</td>\n",
       "      <td>Classical Mythology</td>\n",
       "      <td>Mark P. O. Morford</td>\n",
       "      <td>2002</td>\n",
       "      <td>Oxford University Press</td>\n",
       "    </tr>\n",
       "    <tr>\n",
       "      <th>1</th>\n",
       "      <td>0002005018</td>\n",
       "      <td>Clara Callan</td>\n",
       "      <td>Richard Bruce Wright</td>\n",
       "      <td>2001</td>\n",
       "      <td>HarperFlamingo Canada</td>\n",
       "    </tr>\n",
       "    <tr>\n",
       "      <th>2</th>\n",
       "      <td>0060973129</td>\n",
       "      <td>Decision in Normandy</td>\n",
       "      <td>Carlo D'Este</td>\n",
       "      <td>1991</td>\n",
       "      <td>HarperPerennial</td>\n",
       "    </tr>\n",
       "    <tr>\n",
       "      <th>3</th>\n",
       "      <td>0374157065</td>\n",
       "      <td>Flu: The Story of the Great Influenza Pandemic...</td>\n",
       "      <td>Gina Bari Kolata</td>\n",
       "      <td>1999</td>\n",
       "      <td>Farrar Straus Giroux</td>\n",
       "    </tr>\n",
       "    <tr>\n",
       "      <th>4</th>\n",
       "      <td>0393045218</td>\n",
       "      <td>The Mummies of Urumchi</td>\n",
       "      <td>E. J. W. Barber</td>\n",
       "      <td>1999</td>\n",
       "      <td>W. W. Norton &amp;amp; Company</td>\n",
       "    </tr>\n",
       "  </tbody>\n",
       "</table>\n",
       "</div>"
      ]
     },
     "execution_count": 7,
     "metadata": {},
     "output_type": "execute_result"
    }
   ],
   "execution_count": 7
  },
  {
   "cell_type": "code",
   "metadata": {
    "colab": {
     "base_uri": "https://localhost:8080/"
    },
    "executionInfo": {
     "elapsed": 680,
     "status": "ok",
     "timestamp": 1677413120835,
     "user": {
      "displayName": "Brian Baert",
      "userId": "10594924534974534320"
     },
     "user_tz": -60
    },
    "id": "FRQAxpObzr3G",
    "outputId": "f2d6039d-0e2d-4881-eaec-8d058b285b3c",
    "ExecuteTime": {
     "end_time": "2025-05-26T16:13:47.808213Z",
     "start_time": "2025-05-26T16:13:47.726296Z"
    }
   },
   "source": [
    "# Check for null values, replace with 'Other'\n",
    "books.isnull().sum()"
   ],
   "outputs": [
    {
     "data": {
      "text/plain": [
       "ISBN                   0\n",
       "Book-Title             0\n",
       "Book-Author            2\n",
       "Year-Of-Publication    0\n",
       "Publisher              2\n",
       "dtype: int64"
      ]
     },
     "execution_count": 8,
     "metadata": {},
     "output_type": "execute_result"
    }
   ],
   "execution_count": 8
  },
  {
   "cell_type": "code",
   "metadata": {
    "colab": {
     "base_uri": "https://localhost:8080/",
     "height": 81
    },
    "executionInfo": {
     "elapsed": 124,
     "status": "ok",
     "timestamp": 1677413120840,
     "user": {
      "displayName": "Brian Baert",
      "userId": "10594924534974534320"
     },
     "user_tz": -60
    },
    "id": "EUv5XcWhzwmX",
    "outputId": "fc673203-81e8-488a-f92a-ce50fc907582",
    "ExecuteTime": {
     "end_time": "2025-05-26T16:13:48.277739Z",
     "start_time": "2025-05-26T16:13:48.254230Z"
    }
   },
   "source": [
    "books.loc[books['Book-Author'].isnull(),:]"
   ],
   "outputs": [
    {
     "data": {
      "text/plain": [
       "              ISBN                                         Book-Title  \\\n",
       "118033  0751352497                           A+ Quiz Masters:01 Earth   \n",
       "187689  9627982032  The Credit Suisse Guide to Managing Your Perso...   \n",
       "\n",
       "       Book-Author Year-Of-Publication                       Publisher  \n",
       "118033         NaN                1999              Dorling Kindersley  \n",
       "187689         NaN                1995  Edinburgh Financial Publishing  "
      ],
      "text/html": [
       "<div>\n",
       "<style scoped>\n",
       "    .dataframe tbody tr th:only-of-type {\n",
       "        vertical-align: middle;\n",
       "    }\n",
       "\n",
       "    .dataframe tbody tr th {\n",
       "        vertical-align: top;\n",
       "    }\n",
       "\n",
       "    .dataframe thead th {\n",
       "        text-align: right;\n",
       "    }\n",
       "</style>\n",
       "<table border=\"1\" class=\"dataframe\">\n",
       "  <thead>\n",
       "    <tr style=\"text-align: right;\">\n",
       "      <th></th>\n",
       "      <th>ISBN</th>\n",
       "      <th>Book-Title</th>\n",
       "      <th>Book-Author</th>\n",
       "      <th>Year-Of-Publication</th>\n",
       "      <th>Publisher</th>\n",
       "    </tr>\n",
       "  </thead>\n",
       "  <tbody>\n",
       "    <tr>\n",
       "      <th>118033</th>\n",
       "      <td>0751352497</td>\n",
       "      <td>A+ Quiz Masters:01 Earth</td>\n",
       "      <td>NaN</td>\n",
       "      <td>1999</td>\n",
       "      <td>Dorling Kindersley</td>\n",
       "    </tr>\n",
       "    <tr>\n",
       "      <th>187689</th>\n",
       "      <td>9627982032</td>\n",
       "      <td>The Credit Suisse Guide to Managing Your Perso...</td>\n",
       "      <td>NaN</td>\n",
       "      <td>1995</td>\n",
       "      <td>Edinburgh Financial Publishing</td>\n",
       "    </tr>\n",
       "  </tbody>\n",
       "</table>\n",
       "</div>"
      ]
     },
     "execution_count": 9,
     "metadata": {},
     "output_type": "execute_result"
    }
   ],
   "execution_count": 9
  },
  {
   "cell_type": "code",
   "metadata": {
    "colab": {
     "base_uri": "https://localhost:8080/",
     "height": 112
    },
    "executionInfo": {
     "elapsed": 114,
     "status": "ok",
     "timestamp": 1677413120845,
     "user": {
      "displayName": "Brian Baert",
      "userId": "10594924534974534320"
     },
     "user_tz": -60
    },
    "id": "jLuwGQaCz1zS",
    "outputId": "a5bd4b04-8c70-4805-b5d3-4d180eb4998c",
    "ExecuteTime": {
     "end_time": "2025-05-26T16:13:48.715070Z",
     "start_time": "2025-05-26T16:13:48.680847Z"
    }
   },
   "source": [
    "books.loc[books['Publisher'].isnull(),:]"
   ],
   "outputs": [
    {
     "data": {
      "text/plain": [
       "              ISBN       Book-Title      Book-Author Year-Of-Publication  \\\n",
       "128890  193169656X      Tyrant Moon  Elaine Corvidae                2002   \n",
       "129037  1931696993  Finders Keepers  Linnea Sinclair                2001   \n",
       "\n",
       "       Publisher  \n",
       "128890       NaN  \n",
       "129037       NaN  "
      ],
      "text/html": [
       "<div>\n",
       "<style scoped>\n",
       "    .dataframe tbody tr th:only-of-type {\n",
       "        vertical-align: middle;\n",
       "    }\n",
       "\n",
       "    .dataframe tbody tr th {\n",
       "        vertical-align: top;\n",
       "    }\n",
       "\n",
       "    .dataframe thead th {\n",
       "        text-align: right;\n",
       "    }\n",
       "</style>\n",
       "<table border=\"1\" class=\"dataframe\">\n",
       "  <thead>\n",
       "    <tr style=\"text-align: right;\">\n",
       "      <th></th>\n",
       "      <th>ISBN</th>\n",
       "      <th>Book-Title</th>\n",
       "      <th>Book-Author</th>\n",
       "      <th>Year-Of-Publication</th>\n",
       "      <th>Publisher</th>\n",
       "    </tr>\n",
       "  </thead>\n",
       "  <tbody>\n",
       "    <tr>\n",
       "      <th>128890</th>\n",
       "      <td>193169656X</td>\n",
       "      <td>Tyrant Moon</td>\n",
       "      <td>Elaine Corvidae</td>\n",
       "      <td>2002</td>\n",
       "      <td>NaN</td>\n",
       "    </tr>\n",
       "    <tr>\n",
       "      <th>129037</th>\n",
       "      <td>1931696993</td>\n",
       "      <td>Finders Keepers</td>\n",
       "      <td>Linnea Sinclair</td>\n",
       "      <td>2001</td>\n",
       "      <td>NaN</td>\n",
       "    </tr>\n",
       "  </tbody>\n",
       "</table>\n",
       "</div>"
      ]
     },
     "execution_count": 10,
     "metadata": {},
     "output_type": "execute_result"
    }
   ],
   "execution_count": 10
  },
  {
   "cell_type": "code",
   "metadata": {
    "executionInfo": {
     "elapsed": 106,
     "status": "ok",
     "timestamp": 1677413120846,
     "user": {
      "displayName": "Brian Baert",
      "userId": "10594924534974534320"
     },
     "user_tz": -60
    },
    "id": "8OVpJTf3z_5L",
    "ExecuteTime": {
     "end_time": "2025-05-26T16:13:49.154601Z",
     "start_time": "2025-05-26T16:13:49.145797Z"
    }
   },
   "source": [
    "books.iloc[187689]['Book-Author'] = 'Other'\n",
    "books.iloc[128890]['Publisher'] = 'Other'\n",
    "books.iloc[129037]['Publisher'] = 'Other'"
   ],
   "outputs": [],
   "execution_count": 11
  },
  {
   "cell_type": "code",
   "metadata": {
    "colab": {
     "base_uri": "https://localhost:8080/"
    },
    "executionInfo": {
     "elapsed": 107,
     "status": "ok",
     "timestamp": 1677413120848,
     "user": {
      "displayName": "Brian Baert",
      "userId": "10594924534974534320"
     },
     "user_tz": -60
    },
    "id": "ZLwSKb1902tH",
    "outputId": "0d992f17-c61a-4d0c-c480-3df6482340f1",
    "ExecuteTime": {
     "end_time": "2025-05-26T16:13:49.561380Z",
     "start_time": "2025-05-26T16:13:49.536484Z"
    }
   },
   "source": [
    "# Check the year column, what's wrong there? \n",
    "books['Year-Of-Publication'].unique()\n",
    "# There are publishers in the year column ... "
   ],
   "outputs": [
    {
     "data": {
      "text/plain": [
       "array([2002, 2001, 1991, 1999, 2000, 1993, 1996, 1988, 2004, 1998, 1994,\n",
       "       2003, 1997, 1983, 1979, 1995, 1982, 1985, 1992, 1986, 1978, 1980,\n",
       "       1952, 1987, 1990, 1981, 1989, 1984, 0, 1968, 1961, 1958, 1974,\n",
       "       1976, 1971, 1977, 1975, 1965, 1941, 1970, 1962, 1973, 1972, 1960,\n",
       "       1966, 1920, 1956, 1959, 1953, 1951, 1942, 1963, 1964, 1969, 1954,\n",
       "       1950, 1967, 2005, 1957, 1940, 1937, 1955, 1946, 1936, 1930, 2011,\n",
       "       1925, 1948, 1943, 1947, 1945, 1923, 2020, 1939, 1926, 1938, 2030,\n",
       "       1911, 1904, 1949, 1932, 1928, 1929, 1927, 1931, 1914, 2050, 1934,\n",
       "       1910, 1933, 1902, 1924, 1921, 1900, 2038, 2026, 1944, 1917, 1901,\n",
       "       2010, 1908, 1906, 1935, 1806, 2021, '2000', '1995', '1999', '2004',\n",
       "       '2003', '1990', '1994', '1986', '1989', '2002', '1981', '1993',\n",
       "       '1983', '1982', '1976', '1991', '1977', '1998', '1992', '1996',\n",
       "       '0', '1997', '2001', '1974', '1968', '1987', '1984', '1988',\n",
       "       '1963', '1956', '1970', '1985', '1978', '1973', '1980', '1979',\n",
       "       '1975', '1969', '1961', '1965', '1939', '1958', '1950', '1953',\n",
       "       '1966', '1971', '1959', '1972', '1955', '1957', '1945', '1960',\n",
       "       '1967', '1932', '1924', '1964', '2012', '1911', '1927', '1948',\n",
       "       '1962', '2006', '1952', '1940', '1951', '1931', '1954', '2005',\n",
       "       '1930', '1941', '1944', 'DK Publishing Inc', '1943', '1938',\n",
       "       '1900', '1942', '1923', '1920', '1933', 'Gallimard', '1909',\n",
       "       '1946', '2008', '1378', '2030', '1936', '1947', '2011', '2020',\n",
       "       '1919', '1949', '1922', '1897', '2024', '1376', '1926', '2037'],\n",
       "      dtype=object)"
      ]
     },
     "execution_count": 12,
     "metadata": {},
     "output_type": "execute_result"
    }
   ],
   "execution_count": 12
  },
  {
   "cell_type": "code",
   "metadata": {
    "executionInfo": {
     "elapsed": 82,
     "status": "ok",
     "timestamp": 1677413120853,
     "user": {
      "displayName": "Brian Baert",
      "userId": "10594924534974534320"
     },
     "user_tz": -60
    },
    "id": "ISS-d6Fy1Pfp",
    "ExecuteTime": {
     "end_time": "2025-05-26T16:13:49.872365Z",
     "start_time": "2025-05-26T16:13:49.860007Z"
    }
   },
   "source": [
    "pd.set_option('display.max_colwidth', None)"
   ],
   "outputs": [],
   "execution_count": 13
  },
  {
   "cell_type": "code",
   "metadata": {
    "colab": {
     "base_uri": "https://localhost:8080/",
     "height": 112
    },
    "executionInfo": {
     "elapsed": 449,
     "status": "ok",
     "timestamp": 1677413121222,
     "user": {
      "displayName": "Brian Baert",
      "userId": "10594924534974534320"
     },
     "user_tz": -60
    },
    "id": "39D_yNIV18p6",
    "outputId": "4c75be13-a2fc-4e2e-c37b-778a7800e6bb",
    "ExecuteTime": {
     "end_time": "2025-05-26T16:13:50.063340Z",
     "start_time": "2025-05-26T16:13:50.022536Z"
    }
   },
   "source": [
    "books.loc[books['Year-Of-Publication'] == 'DK Publishing Inc', :]"
   ],
   "outputs": [
    {
     "data": {
      "text/plain": [
       "              ISBN  \\\n",
       "209538  078946697X   \n",
       "221678  0789466953   \n",
       "\n",
       "                                                                                                         Book-Title  \\\n",
       "209538         DK Readers: Creating the X-Men, How It All Began (Level 4: Proficient Readers)\\\";Michael Teitelbaum\"   \n",
       "221678  DK Readers: Creating the X-Men, How Comic Books Come to Life (Level 4: Proficient Readers)\\\";James Buckley\"   \n",
       "\n",
       "       Book-Author Year-Of-Publication  \\\n",
       "209538        2000   DK Publishing Inc   \n",
       "221678        2000   DK Publishing Inc   \n",
       "\n",
       "                                                           Publisher  \n",
       "209538  http://images.amazon.com/images/P/078946697X.01.THUMBZZZ.jpg  \n",
       "221678  http://images.amazon.com/images/P/0789466953.01.THUMBZZZ.jpg  "
      ],
      "text/html": [
       "<div>\n",
       "<style scoped>\n",
       "    .dataframe tbody tr th:only-of-type {\n",
       "        vertical-align: middle;\n",
       "    }\n",
       "\n",
       "    .dataframe tbody tr th {\n",
       "        vertical-align: top;\n",
       "    }\n",
       "\n",
       "    .dataframe thead th {\n",
       "        text-align: right;\n",
       "    }\n",
       "</style>\n",
       "<table border=\"1\" class=\"dataframe\">\n",
       "  <thead>\n",
       "    <tr style=\"text-align: right;\">\n",
       "      <th></th>\n",
       "      <th>ISBN</th>\n",
       "      <th>Book-Title</th>\n",
       "      <th>Book-Author</th>\n",
       "      <th>Year-Of-Publication</th>\n",
       "      <th>Publisher</th>\n",
       "    </tr>\n",
       "  </thead>\n",
       "  <tbody>\n",
       "    <tr>\n",
       "      <th>209538</th>\n",
       "      <td>078946697X</td>\n",
       "      <td>DK Readers: Creating the X-Men, How It All Began (Level 4: Proficient Readers)\\\";Michael Teitelbaum\"</td>\n",
       "      <td>2000</td>\n",
       "      <td>DK Publishing Inc</td>\n",
       "      <td>http://images.amazon.com/images/P/078946697X.01.THUMBZZZ.jpg</td>\n",
       "    </tr>\n",
       "    <tr>\n",
       "      <th>221678</th>\n",
       "      <td>0789466953</td>\n",
       "      <td>DK Readers: Creating the X-Men, How Comic Books Come to Life (Level 4: Proficient Readers)\\\";James Buckley\"</td>\n",
       "      <td>2000</td>\n",
       "      <td>DK Publishing Inc</td>\n",
       "      <td>http://images.amazon.com/images/P/0789466953.01.THUMBZZZ.jpg</td>\n",
       "    </tr>\n",
       "  </tbody>\n",
       "</table>\n",
       "</div>"
      ]
     },
     "execution_count": 14,
     "metadata": {},
     "output_type": "execute_result"
    }
   ],
   "execution_count": 14
  },
  {
   "cell_type": "code",
   "metadata": {
    "colab": {
     "base_uri": "https://localhost:8080/",
     "height": 81
    },
    "executionInfo": {
     "elapsed": 49,
     "status": "ok",
     "timestamp": 1677413121222,
     "user": {
      "displayName": "Brian Baert",
      "userId": "10594924534974534320"
     },
     "user_tz": -60
    },
    "id": "NYjTz1cj2ANi",
    "outputId": "87221ed2-d698-4709-cee2-80d6d1731836",
    "ExecuteTime": {
     "end_time": "2025-05-26T16:13:50.291757Z",
     "start_time": "2025-05-26T16:13:50.253378Z"
    }
   },
   "source": [
    "books.loc[books['Year-Of-Publication'] == 'Gallimard',]"
   ],
   "outputs": [
    {
     "data": {
      "text/plain": [
       "              ISBN  \\\n",
       "220731  2070426769   \n",
       "\n",
       "                                                                      Book-Title  \\\n",
       "220731  Peuple du ciel, suivi de 'Les Bergers\\\";Jean-Marie Gustave Le ClÃ?Â©zio\"   \n",
       "\n",
       "       Book-Author Year-Of-Publication  \\\n",
       "220731        2003           Gallimard   \n",
       "\n",
       "                                                           Publisher  \n",
       "220731  http://images.amazon.com/images/P/2070426769.01.THUMBZZZ.jpg  "
      ],
      "text/html": [
       "<div>\n",
       "<style scoped>\n",
       "    .dataframe tbody tr th:only-of-type {\n",
       "        vertical-align: middle;\n",
       "    }\n",
       "\n",
       "    .dataframe tbody tr th {\n",
       "        vertical-align: top;\n",
       "    }\n",
       "\n",
       "    .dataframe thead th {\n",
       "        text-align: right;\n",
       "    }\n",
       "</style>\n",
       "<table border=\"1\" class=\"dataframe\">\n",
       "  <thead>\n",
       "    <tr style=\"text-align: right;\">\n",
       "      <th></th>\n",
       "      <th>ISBN</th>\n",
       "      <th>Book-Title</th>\n",
       "      <th>Book-Author</th>\n",
       "      <th>Year-Of-Publication</th>\n",
       "      <th>Publisher</th>\n",
       "    </tr>\n",
       "  </thead>\n",
       "  <tbody>\n",
       "    <tr>\n",
       "      <th>220731</th>\n",
       "      <td>2070426769</td>\n",
       "      <td>Peuple du ciel, suivi de 'Les Bergers\\\";Jean-Marie Gustave Le ClÃ?Â©zio\"</td>\n",
       "      <td>2003</td>\n",
       "      <td>Gallimard</td>\n",
       "      <td>http://images.amazon.com/images/P/2070426769.01.THUMBZZZ.jpg</td>\n",
       "    </tr>\n",
       "  </tbody>\n",
       "</table>\n",
       "</div>"
      ]
     },
     "execution_count": 15,
     "metadata": {},
     "output_type": "execute_result"
    }
   ],
   "execution_count": 15
  },
  {
   "cell_type": "code",
   "metadata": {
    "executionInfo": {
     "elapsed": 43,
     "status": "ok",
     "timestamp": 1677413121223,
     "user": {
      "displayName": "Brian Baert",
      "userId": "10594924534974534320"
     },
     "user_tz": -60
    },
    "id": "OsxhQoVi2ImS",
    "ExecuteTime": {
     "end_time": "2025-05-26T16:13:50.554077Z",
     "start_time": "2025-05-26T16:13:50.535792Z"
    }
   },
   "source": [
    "books.iloc[205538]['Publisher'] = 'DK Publishing Inc'\n",
    "books.iloc[209538]['Year-Of-Publication'] = 2000\n",
    "books.iloc[209538]['Book-Title'] = 'DK Readers: Creating the X-Men, How It All Began (Level 4: Proficient Readers)'\n",
    "books.iloc[209538]['Book-Author'] = 'Michael Teitelbaum'\n",
    "\n",
    "books.iloc[221678]['Publisher'] = 'DK Publishing Inc'\n",
    "books.iloc[221678]['Year-Of-Publication'] = 2000\n",
    "books.iloc[209538]['Book-Title'] = 'DK Readers: Creating the X-Men, How Comic Books Come to Life (Level 4: Proficient Readers)'\n",
    "books.iloc[209538]['Book-Author'] = 'James Buckley'\n",
    "\n",
    "books.iloc[220731]['Publisher'] = 'Gallimard'\n",
    "books.iloc[220731]['Year-Of-Publication'] = '2003'\n",
    "books.iloc[209538]['Book-Title'] = 'Peuple du ciel - Suivi de Les bergers '\n",
    "books.iloc[209538]['Book-Author'] = 'Jean-Marie Gustave Le ClÃ?Â©zio'"
   ],
   "outputs": [],
   "execution_count": 16
  },
  {
   "cell_type": "code",
   "metadata": {
    "colab": {
     "base_uri": "https://localhost:8080/"
    },
    "executionInfo": {
     "elapsed": 40,
     "status": "ok",
     "timestamp": 1677413121224,
     "user": {
      "displayName": "Brian Baert",
      "userId": "10594924534974534320"
     },
     "user_tz": -60
    },
    "id": "8AC4DOeRAKhV",
    "outputId": "a2203408-b628-4419-c938-3ac0b2029424",
    "ExecuteTime": {
     "end_time": "2025-05-26T16:13:50.929161Z",
     "start_time": "2025-05-26T16:13:50.899574Z"
    }
   },
   "source": [
    "# Convert the year column to int\n",
    "books['Year-Of-Publication'] = books['Year-Of-Publication'].astype(int)\n",
    "print(sorted(list(books['Year-Of-Publication'].unique())))"
   ],
   "outputs": [
    {
     "name": "stdout",
     "output_type": "stream",
     "text": [
      "[np.int64(0), np.int64(1376), np.int64(1378), np.int64(1806), np.int64(1897), np.int64(1900), np.int64(1901), np.int64(1902), np.int64(1904), np.int64(1906), np.int64(1908), np.int64(1909), np.int64(1910), np.int64(1911), np.int64(1914), np.int64(1917), np.int64(1919), np.int64(1920), np.int64(1921), np.int64(1922), np.int64(1923), np.int64(1924), np.int64(1925), np.int64(1926), np.int64(1927), np.int64(1928), np.int64(1929), np.int64(1930), np.int64(1931), np.int64(1932), np.int64(1933), np.int64(1934), np.int64(1935), np.int64(1936), np.int64(1937), np.int64(1938), np.int64(1939), np.int64(1940), np.int64(1941), np.int64(1942), np.int64(1943), np.int64(1944), np.int64(1945), np.int64(1946), np.int64(1947), np.int64(1948), np.int64(1949), np.int64(1950), np.int64(1951), np.int64(1952), np.int64(1953), np.int64(1954), np.int64(1955), np.int64(1956), np.int64(1957), np.int64(1958), np.int64(1959), np.int64(1960), np.int64(1961), np.int64(1962), np.int64(1963), np.int64(1964), np.int64(1965), np.int64(1966), np.int64(1967), np.int64(1968), np.int64(1969), np.int64(1970), np.int64(1971), np.int64(1972), np.int64(1973), np.int64(1974), np.int64(1975), np.int64(1976), np.int64(1977), np.int64(1978), np.int64(1979), np.int64(1980), np.int64(1981), np.int64(1982), np.int64(1983), np.int64(1984), np.int64(1985), np.int64(1986), np.int64(1987), np.int64(1988), np.int64(1989), np.int64(1990), np.int64(1991), np.int64(1992), np.int64(1993), np.int64(1994), np.int64(1995), np.int64(1996), np.int64(1997), np.int64(1998), np.int64(1999), np.int64(2000), np.int64(2001), np.int64(2002), np.int64(2003), np.int64(2004), np.int64(2005), np.int64(2006), np.int64(2008), np.int64(2010), np.int64(2011), np.int64(2012), np.int64(2020), np.int64(2021), np.int64(2024), np.int64(2026), np.int64(2030), np.int64(2037), np.int64(2038), np.int64(2050)]\n"
     ]
    }
   ],
   "execution_count": 17
  },
  {
   "cell_type": "code",
   "metadata": {
    "colab": {
     "base_uri": "https://localhost:8080/"
    },
    "executionInfo": {
     "elapsed": 33,
     "status": "ok",
     "timestamp": 1677413121224,
     "user": {
      "displayName": "Brian Baert",
      "userId": "10594924534974534320"
     },
     "user_tz": -60
    },
    "id": "9LmyYmWH29Cf",
    "outputId": "684c0a29-c474-4b27-e276-d4676f0a5dc1",
    "ExecuteTime": {
     "end_time": "2025-05-26T16:13:51.209275Z",
     "start_time": "2025-05-26T16:13:51.159023Z"
    }
   },
   "source": [
    "# Replace invalid years with the modus of the year column\n",
    "\n",
    "# here we choose to use the built-in mode() function of the statistics library\n",
    "# it is possible to handcraft your own method as well\n",
    "import statistics\n",
    "modeYear = statistics.mode(books['Year-Of-Publication'])\n",
    "modeYear"
   ],
   "outputs": [
    {
     "data": {
      "text/plain": [
       "2002"
      ]
     },
     "execution_count": 18,
     "metadata": {},
     "output_type": "execute_result"
    }
   ],
   "execution_count": 18
  },
  {
   "cell_type": "code",
   "metadata": {
    "executionInfo": {
     "elapsed": 19,
     "status": "ok",
     "timestamp": 1677413121225,
     "user": {
      "displayName": "Brian Baert",
      "userId": "10594924534974534320"
     },
     "user_tz": -60
    },
    "id": "rSiKg6YrBJWy",
    "ExecuteTime": {
     "end_time": "2025-05-26T16:13:51.419628Z",
     "start_time": "2025-05-26T16:13:51.398507Z"
    }
   },
   "source": [
    "books.loc[books['Year-Of-Publication'] > 2021, 'Year-Of-Publication'] = modeYear\n",
    "books.loc[books['Year-Of-Publication'] == 0, 'Year-Of-Publication'] = modeYear"
   ],
   "outputs": [],
   "execution_count": 19
  },
  {
   "cell_type": "code",
   "metadata": {
    "colab": {
     "base_uri": "https://localhost:8080/"
    },
    "executionInfo": {
     "elapsed": 2439,
     "status": "ok",
     "timestamp": 1677413123645,
     "user": {
      "displayName": "Brian Baert",
      "userId": "10594924534974534320"
     },
     "user_tz": -60
    },
    "id": "jcQRJVsiCKrq",
    "outputId": "a6cf24d0-2d18-4702-afef-1ba2ec43550b",
    "ExecuteTime": {
     "end_time": "2025-05-26T16:13:51.992405Z",
     "start_time": "2025-05-26T16:13:51.566409Z"
    }
   },
   "source": [
    "# Make sure the ISBN column is in uppercase, remove duplicates\n",
    "books['ISBN'] = books['ISBN'].str.upper()\n",
    "\n",
    "books.drop_duplicates(keep='last', inplace=True)\n",
    "books.reset_index(drop=True, inplace=True)\n",
    "\n",
    "books.info()"
   ],
   "outputs": [
    {
     "name": "stdout",
     "output_type": "stream",
     "text": [
      "<class 'pandas.core.frame.DataFrame'>\n",
      "RangeIndex: 271047 entries, 0 to 271046\n",
      "Data columns (total 5 columns):\n",
      " #   Column               Non-Null Count   Dtype \n",
      "---  ------               --------------   ----- \n",
      " 0   ISBN                 271047 non-null  object\n",
      " 1   Book-Title           271047 non-null  object\n",
      " 2   Book-Author          271046 non-null  object\n",
      " 3   Year-Of-Publication  271047 non-null  int64 \n",
      " 4   Publisher            271047 non-null  object\n",
      "dtypes: int64(1), object(4)\n",
      "memory usage: 10.3+ MB\n"
     ]
    }
   ],
   "execution_count": 20
  },
  {
   "cell_type": "code",
   "metadata": {
    "colab": {
     "base_uri": "https://localhost:8080/",
     "height": 143
    },
    "executionInfo": {
     "elapsed": 14,
     "status": "ok",
     "timestamp": 1677413123647,
     "user": {
      "displayName": "Brian Baert",
      "userId": "10594924534974534320"
     },
     "user_tz": -60
    },
    "id": "DXsS_Av2CilA",
    "outputId": "86546b9d-e698-4a89-dc18-085f5d12e277",
    "ExecuteTime": {
     "end_time": "2025-05-26T16:13:52.047356Z",
     "start_time": "2025-05-26T16:13:52.030495Z"
    }
   },
   "source": [
    "books.head(3)"
   ],
   "outputs": [
    {
     "data": {
      "text/plain": [
       "         ISBN            Book-Title           Book-Author  \\\n",
       "0  0195153448   Classical Mythology    Mark P. O. Morford   \n",
       "1  0002005018          Clara Callan  Richard Bruce Wright   \n",
       "2  0060973129  Decision in Normandy          Carlo D'Este   \n",
       "\n",
       "   Year-Of-Publication                Publisher  \n",
       "0                 2002  Oxford University Press  \n",
       "1                 2001    HarperFlamingo Canada  \n",
       "2                 1991          HarperPerennial  "
      ],
      "text/html": [
       "<div>\n",
       "<style scoped>\n",
       "    .dataframe tbody tr th:only-of-type {\n",
       "        vertical-align: middle;\n",
       "    }\n",
       "\n",
       "    .dataframe tbody tr th {\n",
       "        vertical-align: top;\n",
       "    }\n",
       "\n",
       "    .dataframe thead th {\n",
       "        text-align: right;\n",
       "    }\n",
       "</style>\n",
       "<table border=\"1\" class=\"dataframe\">\n",
       "  <thead>\n",
       "    <tr style=\"text-align: right;\">\n",
       "      <th></th>\n",
       "      <th>ISBN</th>\n",
       "      <th>Book-Title</th>\n",
       "      <th>Book-Author</th>\n",
       "      <th>Year-Of-Publication</th>\n",
       "      <th>Publisher</th>\n",
       "    </tr>\n",
       "  </thead>\n",
       "  <tbody>\n",
       "    <tr>\n",
       "      <th>0</th>\n",
       "      <td>0195153448</td>\n",
       "      <td>Classical Mythology</td>\n",
       "      <td>Mark P. O. Morford</td>\n",
       "      <td>2002</td>\n",
       "      <td>Oxford University Press</td>\n",
       "    </tr>\n",
       "    <tr>\n",
       "      <th>1</th>\n",
       "      <td>0002005018</td>\n",
       "      <td>Clara Callan</td>\n",
       "      <td>Richard Bruce Wright</td>\n",
       "      <td>2001</td>\n",
       "      <td>HarperFlamingo Canada</td>\n",
       "    </tr>\n",
       "    <tr>\n",
       "      <th>2</th>\n",
       "      <td>0060973129</td>\n",
       "      <td>Decision in Normandy</td>\n",
       "      <td>Carlo D'Este</td>\n",
       "      <td>1991</td>\n",
       "      <td>HarperPerennial</td>\n",
       "    </tr>\n",
       "  </tbody>\n",
       "</table>\n",
       "</div>"
      ]
     },
     "execution_count": 21,
     "metadata": {},
     "output_type": "execute_result"
    }
   ],
   "execution_count": 21
  },
  {
   "cell_type": "markdown",
   "metadata": {
    "id": "rM41qCqnyBwM"
   },
   "source": [
    "**Ratings**\n",
    "\n",
    "\n",
    "*   Check for null values.\n",
    "*   Cast `Rating` and `User-ID` column to `int`\n",
    "*   Make sure the ISBN column values are aligned with those of the `Books` table, otherwise drop the record.\n",
    "*   Make sure the ISBN column is in uppercase, remove duplicate rows"
   ]
  },
  {
   "cell_type": "code",
   "metadata": {
    "colab": {
     "base_uri": "https://localhost:8080/"
    },
    "executionInfo": {
     "elapsed": 12,
     "status": "ok",
     "timestamp": 1677413123647,
     "user": {
      "displayName": "Brian Baert",
      "userId": "10594924534974534320"
     },
     "user_tz": -60
    },
    "id": "t7O-Mb9DH5bk",
    "outputId": "4e8e4f3a-52fd-4280-a9cf-ac94410fc721",
    "ExecuteTime": {
     "end_time": "2025-05-26T16:13:52.171653Z",
     "start_time": "2025-05-26T16:13:52.154951Z"
    }
   },
   "source": [
    "ratings.columns"
   ],
   "outputs": [
    {
     "data": {
      "text/plain": [
       "Index(['User-ID', 'ISBN', 'Book-Rating'], dtype='object')"
      ]
     },
     "execution_count": 22,
     "metadata": {},
     "output_type": "execute_result"
    }
   ],
   "execution_count": 22
  },
  {
   "cell_type": "code",
   "metadata": {
    "colab": {
     "base_uri": "https://localhost:8080/",
     "height": 206
    },
    "executionInfo": {
     "elapsed": 9,
     "status": "ok",
     "timestamp": 1677413123647,
     "user": {
      "displayName": "Brian Baert",
      "userId": "10594924534974534320"
     },
     "user_tz": -60
    },
    "id": "zDri9GNxH6Jr",
    "outputId": "2e260052-c237-43dd-beb2-daf401f3c638",
    "ExecuteTime": {
     "end_time": "2025-05-26T16:13:52.351919Z",
     "start_time": "2025-05-26T16:13:52.328928Z"
    }
   },
   "source": [
    "ratings.head()"
   ],
   "outputs": [
    {
     "data": {
      "text/plain": [
       "   User-ID        ISBN  Book-Rating\n",
       "0   276725  034545104X            0\n",
       "1   276726  0155061224            5\n",
       "2   276727  0446520802            0\n",
       "3   276729  052165615X            3\n",
       "4   276729  0521795028            6"
      ],
      "text/html": [
       "<div>\n",
       "<style scoped>\n",
       "    .dataframe tbody tr th:only-of-type {\n",
       "        vertical-align: middle;\n",
       "    }\n",
       "\n",
       "    .dataframe tbody tr th {\n",
       "        vertical-align: top;\n",
       "    }\n",
       "\n",
       "    .dataframe thead th {\n",
       "        text-align: right;\n",
       "    }\n",
       "</style>\n",
       "<table border=\"1\" class=\"dataframe\">\n",
       "  <thead>\n",
       "    <tr style=\"text-align: right;\">\n",
       "      <th></th>\n",
       "      <th>User-ID</th>\n",
       "      <th>ISBN</th>\n",
       "      <th>Book-Rating</th>\n",
       "    </tr>\n",
       "  </thead>\n",
       "  <tbody>\n",
       "    <tr>\n",
       "      <th>0</th>\n",
       "      <td>276725</td>\n",
       "      <td>034545104X</td>\n",
       "      <td>0</td>\n",
       "    </tr>\n",
       "    <tr>\n",
       "      <th>1</th>\n",
       "      <td>276726</td>\n",
       "      <td>0155061224</td>\n",
       "      <td>5</td>\n",
       "    </tr>\n",
       "    <tr>\n",
       "      <th>2</th>\n",
       "      <td>276727</td>\n",
       "      <td>0446520802</td>\n",
       "      <td>0</td>\n",
       "    </tr>\n",
       "    <tr>\n",
       "      <th>3</th>\n",
       "      <td>276729</td>\n",
       "      <td>052165615X</td>\n",
       "      <td>3</td>\n",
       "    </tr>\n",
       "    <tr>\n",
       "      <th>4</th>\n",
       "      <td>276729</td>\n",
       "      <td>0521795028</td>\n",
       "      <td>6</td>\n",
       "    </tr>\n",
       "  </tbody>\n",
       "</table>\n",
       "</div>"
      ]
     },
     "execution_count": 23,
     "metadata": {},
     "output_type": "execute_result"
    }
   ],
   "execution_count": 23
  },
  {
   "cell_type": "code",
   "metadata": {
    "colab": {
     "base_uri": "https://localhost:8080/"
    },
    "executionInfo": {
     "elapsed": 818,
     "status": "ok",
     "timestamp": 1677413124457,
     "user": {
      "displayName": "Brian Baert",
      "userId": "10594924534974534320"
     },
     "user_tz": -60
    },
    "id": "B811ieiXvdHO",
    "outputId": "88e0c9ce-9855-4b19-bd27-dfc557f21b42",
    "ExecuteTime": {
     "end_time": "2025-05-26T16:13:52.686400Z",
     "start_time": "2025-05-26T16:13:52.604290Z"
    }
   },
   "source": [
    "# Check for null values\n",
    "ratings.isnull().sum()"
   ],
   "outputs": [
    {
     "data": {
      "text/plain": [
       "User-ID        0\n",
       "ISBN           0\n",
       "Book-Rating    0\n",
       "dtype: int64"
      ]
     },
     "execution_count": 24,
     "metadata": {},
     "output_type": "execute_result"
    }
   ],
   "execution_count": 24
  },
  {
   "cell_type": "code",
   "metadata": {
    "colab": {
     "base_uri": "https://localhost:8080/"
    },
    "executionInfo": {
     "elapsed": 5,
     "status": "ok",
     "timestamp": 1677413124457,
     "user": {
      "displayName": "Brian Baert",
      "userId": "10594924534974534320"
     },
     "user_tz": -60
    },
    "id": "1sRgDbxtIWjy",
    "outputId": "4d0cc94d-5699-4ffa-b508-ad55a00c413f",
    "ExecuteTime": {
     "end_time": "2025-05-26T16:13:53.084646Z",
     "start_time": "2025-05-26T16:13:53.075986Z"
    }
   },
   "source": [
    "# Check Rating and User-ID column\n",
    "print(is_numeric_dtype(ratings['Book-Rating']))\n",
    "print(is_numeric_dtype(ratings['User-ID']))"
   ],
   "outputs": [
    {
     "name": "stdout",
     "output_type": "stream",
     "text": [
      "True\n",
      "True\n"
     ]
    }
   ],
   "execution_count": 25
  },
  {
   "cell_type": "code",
   "metadata": {
    "colab": {
     "base_uri": "https://localhost:8080/"
    },
    "executionInfo": {
     "elapsed": 3788,
     "status": "ok",
     "timestamp": 1677413128243,
     "user": {
      "displayName": "Brian Baert",
      "userId": "10594924534974534320"
     },
     "user_tz": -60
    },
    "id": "-FvsvODVIGYn",
    "outputId": "16bc77fe-5f42-4425-b849-5decf87b1cca",
    "ExecuteTime": {
     "end_time": "2025-05-26T16:13:54.585416Z",
     "start_time": "2025-05-26T16:13:53.488464Z"
    }
   },
   "source": [
    "# Make sure the ISBN column values are aligned with those of the Books table, otherwise drop\n",
    "# This code is given\n",
    "\n",
    "## checking ISBN\n",
    "flag = 0\n",
    "k =[]\n",
    "reg = \"[^A-Za-z0-9]\"\n",
    "\n",
    "for x in ratings['ISBN']:\n",
    "    z = re.search(reg,x)    \n",
    "    if z:\n",
    "        flag = 1\n",
    "\n",
    "if flag == 1:\n",
    "    print(\"False\")\n",
    "else:\n",
    "    print(\"True\")"
   ],
   "outputs": [
    {
     "name": "stdout",
     "output_type": "stream",
     "text": [
      "False\n"
     ]
    }
   ],
   "execution_count": 26
  },
  {
   "cell_type": "code",
   "metadata": {
    "executionInfo": {
     "elapsed": 76416,
     "status": "ok",
     "timestamp": 1677413204656,
     "user": {
      "displayName": "Brian Baert",
      "userId": "10594924534974534320"
     },
     "user_tz": -60
    },
    "id": "qOGmGD7wIvq9",
    "ExecuteTime": {
     "end_time": "2025-05-26T16:14:46.931505Z",
     "start_time": "2025-05-26T16:13:54.627685Z"
    }
   },
   "source": [
    "## remove extra characters from ISBN (from ratings dataset) existing in books dataset\n",
    "bookISBN = books['ISBN'].tolist() \n",
    "reg = \"[^A-Za-z0-9]\" \n",
    "for index, row_Value in ratings.iterrows():\n",
    "    z = re.search(reg, row_Value['ISBN'])    \n",
    "    if z:\n",
    "        f = re.sub(reg,\"\",row_Value['ISBN'])\n",
    "        if f in bookISBN:\n",
    "            ratings.at[index , 'ISBN'] = f"
   ],
   "outputs": [],
   "execution_count": 27
  },
  {
   "cell_type": "code",
   "metadata": {
    "colab": {
     "base_uri": "https://localhost:8080/"
    },
    "executionInfo": {
     "elapsed": 1095,
     "status": "ok",
     "timestamp": 1677413205734,
     "user": {
      "displayName": "Brian Baert",
      "userId": "10594924534974534320"
     },
     "user_tz": -60
    },
    "id": "BFTpQLdoIKib",
    "outputId": "15af2cf9-814d-4e85-ba74-b7501a55a34f",
    "ExecuteTime": {
     "end_time": "2025-05-26T16:14:47.604386Z",
     "start_time": "2025-05-26T16:14:46.988538Z"
    }
   },
   "source": [
    "# Make sure the ISBN column is in uppercase, remove duplicates\n",
    "ratings['ISBN'] = ratings['ISBN'].str.upper()\n",
    "\n",
    "ratings.drop_duplicates(keep='last', inplace=True)\n",
    "ratings.reset_index(drop=True, inplace=True)\n",
    "\n",
    "ratings.info()"
   ],
   "outputs": [
    {
     "name": "stdout",
     "output_type": "stream",
     "text": [
      "<class 'pandas.core.frame.DataFrame'>\n",
      "RangeIndex: 1149776 entries, 0 to 1149775\n",
      "Data columns (total 3 columns):\n",
      " #   Column       Non-Null Count    Dtype \n",
      "---  ------       --------------    ----- \n",
      " 0   User-ID      1149776 non-null  int64 \n",
      " 1   ISBN         1149776 non-null  object\n",
      " 2   Book-Rating  1149776 non-null  int64 \n",
      "dtypes: int64(2), object(1)\n",
      "memory usage: 26.3+ MB\n"
     ]
    }
   ],
   "execution_count": 28
  },
  {
   "cell_type": "code",
   "metadata": {
    "colab": {
     "base_uri": "https://localhost:8080/",
     "height": 206
    },
    "executionInfo": {
     "elapsed": 24,
     "status": "ok",
     "timestamp": 1677413205735,
     "user": {
      "displayName": "Brian Baert",
      "userId": "10594924534974534320"
     },
     "user_tz": -60
    },
    "id": "9orZTK0QI--a",
    "outputId": "2b14b094-ebf0-44e4-82ba-f9cabf5f74c2",
    "ExecuteTime": {
     "end_time": "2025-05-26T16:14:47.669835Z",
     "start_time": "2025-05-26T16:14:47.657666Z"
    }
   },
   "source": [
    "ratings.head()"
   ],
   "outputs": [
    {
     "data": {
      "text/plain": [
       "   User-ID        ISBN  Book-Rating\n",
       "0   276725  034545104X            0\n",
       "1   276726  0155061224            5\n",
       "2   276727  0446520802            0\n",
       "3   276729  052165615X            3\n",
       "4   276729  0521795028            6"
      ],
      "text/html": [
       "<div>\n",
       "<style scoped>\n",
       "    .dataframe tbody tr th:only-of-type {\n",
       "        vertical-align: middle;\n",
       "    }\n",
       "\n",
       "    .dataframe tbody tr th {\n",
       "        vertical-align: top;\n",
       "    }\n",
       "\n",
       "    .dataframe thead th {\n",
       "        text-align: right;\n",
       "    }\n",
       "</style>\n",
       "<table border=\"1\" class=\"dataframe\">\n",
       "  <thead>\n",
       "    <tr style=\"text-align: right;\">\n",
       "      <th></th>\n",
       "      <th>User-ID</th>\n",
       "      <th>ISBN</th>\n",
       "      <th>Book-Rating</th>\n",
       "    </tr>\n",
       "  </thead>\n",
       "  <tbody>\n",
       "    <tr>\n",
       "      <th>0</th>\n",
       "      <td>276725</td>\n",
       "      <td>034545104X</td>\n",
       "      <td>0</td>\n",
       "    </tr>\n",
       "    <tr>\n",
       "      <th>1</th>\n",
       "      <td>276726</td>\n",
       "      <td>0155061224</td>\n",
       "      <td>5</td>\n",
       "    </tr>\n",
       "    <tr>\n",
       "      <th>2</th>\n",
       "      <td>276727</td>\n",
       "      <td>0446520802</td>\n",
       "      <td>0</td>\n",
       "    </tr>\n",
       "    <tr>\n",
       "      <th>3</th>\n",
       "      <td>276729</td>\n",
       "      <td>052165615X</td>\n",
       "      <td>3</td>\n",
       "    </tr>\n",
       "    <tr>\n",
       "      <th>4</th>\n",
       "      <td>276729</td>\n",
       "      <td>0521795028</td>\n",
       "      <td>6</td>\n",
       "    </tr>\n",
       "  </tbody>\n",
       "</table>\n",
       "</div>"
      ]
     },
     "execution_count": 29,
     "metadata": {},
     "output_type": "execute_result"
    }
   ],
   "execution_count": 29
  },
  {
   "cell_type": "markdown",
   "metadata": {
    "id": "S8xLSMxtyh4w"
   },
   "source": [
    "**Users**\n",
    "\n",
    "\n",
    "*   Check for null values.\n",
    "*   Replace the invalid ages (age should be between 10 and 80) in the `Age` column with the mean value.\n",
    "*   Split the `location` column in `City`, `State` and `Country` if a value is `null` replace it with `other`.\n",
    "*   Remove duplicate rows"
   ]
  },
  {
   "cell_type": "code",
   "metadata": {
    "colab": {
     "base_uri": "https://localhost:8080/"
    },
    "executionInfo": {
     "elapsed": 21,
     "status": "ok",
     "timestamp": 1677413205735,
     "user": {
      "displayName": "Brian Baert",
      "userId": "10594924534974534320"
     },
     "user_tz": -60
    },
    "id": "PycLAC1FCvF3",
    "outputId": "25444f10-a096-4c99-c797-c06bfed367ca",
    "ExecuteTime": {
     "end_time": "2025-05-26T16:14:47.822567Z",
     "start_time": "2025-05-26T16:14:47.810227Z"
    }
   },
   "source": [
    "users.columns"
   ],
   "outputs": [
    {
     "data": {
      "text/plain": [
       "Index(['User-ID', 'Location', 'Age'], dtype='object')"
      ]
     },
     "execution_count": 30,
     "metadata": {},
     "output_type": "execute_result"
    }
   ],
   "execution_count": 30
  },
  {
   "cell_type": "code",
   "metadata": {
    "colab": {
     "base_uri": "https://localhost:8080/",
     "height": 143
    },
    "executionInfo": {
     "elapsed": 17,
     "status": "ok",
     "timestamp": 1677413205735,
     "user": {
      "displayName": "Brian Baert",
      "userId": "10594924534974534320"
     },
     "user_tz": -60
    },
    "id": "JsCqhBASCyyv",
    "outputId": "3b804a79-e223-4c37-8cc2-9d7402b1e6a3",
    "ExecuteTime": {
     "end_time": "2025-05-26T16:14:48.097496Z",
     "start_time": "2025-05-26T16:14:48.074017Z"
    }
   },
   "source": [
    "users.head(3)"
   ],
   "outputs": [
    {
     "data": {
      "text/plain": [
       "   User-ID                         Location   Age\n",
       "0        1               nyc, new york, usa   NaN\n",
       "1        2        stockton, california, usa  18.0\n",
       "2        3  moscow, yukon territory, russia   NaN"
      ],
      "text/html": [
       "<div>\n",
       "<style scoped>\n",
       "    .dataframe tbody tr th:only-of-type {\n",
       "        vertical-align: middle;\n",
       "    }\n",
       "\n",
       "    .dataframe tbody tr th {\n",
       "        vertical-align: top;\n",
       "    }\n",
       "\n",
       "    .dataframe thead th {\n",
       "        text-align: right;\n",
       "    }\n",
       "</style>\n",
       "<table border=\"1\" class=\"dataframe\">\n",
       "  <thead>\n",
       "    <tr style=\"text-align: right;\">\n",
       "      <th></th>\n",
       "      <th>User-ID</th>\n",
       "      <th>Location</th>\n",
       "      <th>Age</th>\n",
       "    </tr>\n",
       "  </thead>\n",
       "  <tbody>\n",
       "    <tr>\n",
       "      <th>0</th>\n",
       "      <td>1</td>\n",
       "      <td>nyc, new york, usa</td>\n",
       "      <td>NaN</td>\n",
       "    </tr>\n",
       "    <tr>\n",
       "      <th>1</th>\n",
       "      <td>2</td>\n",
       "      <td>stockton, california, usa</td>\n",
       "      <td>18.0</td>\n",
       "    </tr>\n",
       "    <tr>\n",
       "      <th>2</th>\n",
       "      <td>3</td>\n",
       "      <td>moscow, yukon territory, russia</td>\n",
       "      <td>NaN</td>\n",
       "    </tr>\n",
       "  </tbody>\n",
       "</table>\n",
       "</div>"
      ]
     },
     "execution_count": 31,
     "metadata": {},
     "output_type": "execute_result"
    }
   ],
   "execution_count": 31
  },
  {
   "cell_type": "code",
   "metadata": {
    "colab": {
     "base_uri": "https://localhost:8080/"
    },
    "executionInfo": {
     "elapsed": 17,
     "status": "ok",
     "timestamp": 1677413205736,
     "user": {
      "displayName": "Brian Baert",
      "userId": "10594924534974534320"
     },
     "user_tz": -60
    },
    "id": "WnW5RYg6zFMb",
    "outputId": "2903e4cc-c0cc-443b-b2c3-0b3658a19b42",
    "ExecuteTime": {
     "end_time": "2025-05-26T16:14:48.400772Z",
     "start_time": "2025-05-26T16:14:48.375939Z"
    }
   },
   "source": [
    "# Check for null values\n",
    "print(users.isna().sum())\n",
    "# There are no missing values :-)"
   ],
   "outputs": [
    {
     "name": "stdout",
     "output_type": "stream",
     "text": [
      "User-ID          0\n",
      "Location         0\n",
      "Age         110762\n",
      "dtype: int64\n"
     ]
    }
   ],
   "execution_count": 32
  },
  {
   "cell_type": "code",
   "metadata": {
    "colab": {
     "base_uri": "https://localhost:8080/"
    },
    "executionInfo": {
     "elapsed": 13,
     "status": "ok",
     "timestamp": 1677413205736,
     "user": {
      "displayName": "Brian Baert",
      "userId": "10594924534974534320"
     },
     "user_tz": -60
    },
    "id": "4ZZSJdzaCm7C",
    "outputId": "29d9fd8e-3b4f-4468-c571-ed0bc0250a2f",
    "ExecuteTime": {
     "end_time": "2025-05-26T16:14:48.867425Z",
     "start_time": "2025-05-26T16:14:48.842268Z"
    }
   },
   "source": [
    "# Replace the invalid ages, fill null values and change datatype to int\n",
    "print(sorted(list(users['Age'].unique())))"
   ],
   "outputs": [
    {
     "name": "stdout",
     "output_type": "stream",
     "text": [
      "[np.float64(nan), np.float64(0.0), np.float64(1.0), np.float64(2.0), np.float64(3.0), np.float64(4.0), np.float64(5.0), np.float64(6.0), np.float64(7.0), np.float64(8.0), np.float64(9.0), np.float64(10.0), np.float64(11.0), np.float64(12.0), np.float64(13.0), np.float64(14.0), np.float64(15.0), np.float64(16.0), np.float64(17.0), np.float64(18.0), np.float64(19.0), np.float64(20.0), np.float64(21.0), np.float64(22.0), np.float64(23.0), np.float64(24.0), np.float64(25.0), np.float64(26.0), np.float64(27.0), np.float64(28.0), np.float64(29.0), np.float64(30.0), np.float64(31.0), np.float64(32.0), np.float64(33.0), np.float64(34.0), np.float64(35.0), np.float64(36.0), np.float64(37.0), np.float64(38.0), np.float64(39.0), np.float64(40.0), np.float64(41.0), np.float64(42.0), np.float64(43.0), np.float64(44.0), np.float64(45.0), np.float64(46.0), np.float64(47.0), np.float64(48.0), np.float64(49.0), np.float64(50.0), np.float64(51.0), np.float64(52.0), np.float64(53.0), np.float64(54.0), np.float64(55.0), np.float64(56.0), np.float64(57.0), np.float64(58.0), np.float64(59.0), np.float64(60.0), np.float64(61.0), np.float64(62.0), np.float64(63.0), np.float64(64.0), np.float64(65.0), np.float64(66.0), np.float64(67.0), np.float64(68.0), np.float64(69.0), np.float64(70.0), np.float64(71.0), np.float64(72.0), np.float64(73.0), np.float64(74.0), np.float64(75.0), np.float64(76.0), np.float64(77.0), np.float64(78.0), np.float64(79.0), np.float64(80.0), np.float64(81.0), np.float64(82.0), np.float64(83.0), np.float64(84.0), np.float64(85.0), np.float64(86.0), np.float64(87.0), np.float64(88.0), np.float64(89.0), np.float64(90.0), np.float64(91.0), np.float64(92.0), np.float64(93.0), np.float64(94.0), np.float64(95.0), np.float64(96.0), np.float64(97.0), np.float64(98.0), np.float64(99.0), np.float64(100.0), np.float64(101.0), np.float64(102.0), np.float64(103.0), np.float64(104.0), np.float64(105.0), np.float64(106.0), np.float64(107.0), np.float64(108.0), np.float64(109.0), np.float64(110.0), np.float64(111.0), np.float64(113.0), np.float64(114.0), np.float64(115.0), np.float64(116.0), np.float64(118.0), np.float64(119.0), np.float64(123.0), np.float64(124.0), np.float64(127.0), np.float64(128.0), np.float64(132.0), np.float64(133.0), np.float64(136.0), np.float64(137.0), np.float64(138.0), np.float64(140.0), np.float64(141.0), np.float64(143.0), np.float64(146.0), np.float64(147.0), np.float64(148.0), np.float64(151.0), np.float64(152.0), np.float64(156.0), np.float64(157.0), np.float64(159.0), np.float64(162.0), np.float64(168.0), np.float64(172.0), np.float64(175.0), np.float64(183.0), np.float64(186.0), np.float64(189.0), np.float64(199.0), np.float64(200.0), np.float64(201.0), np.float64(204.0), np.float64(207.0), np.float64(208.0), np.float64(209.0), np.float64(210.0), np.float64(212.0), np.float64(219.0), np.float64(220.0), np.float64(223.0), np.float64(226.0), np.float64(228.0), np.float64(229.0), np.float64(230.0), np.float64(231.0), np.float64(237.0), np.float64(239.0), np.float64(244.0)]\n"
     ]
    }
   ],
   "execution_count": 33
  },
  {
   "cell_type": "code",
   "metadata": {
    "colab": {
     "base_uri": "https://localhost:8080/"
    },
    "executionInfo": {
     "elapsed": 11,
     "status": "ok",
     "timestamp": 1677413205736,
     "user": {
      "displayName": "Brian Baert",
      "userId": "10594924534974534320"
     },
     "user_tz": -60
    },
    "id": "gYJYXHoXC_u3",
    "outputId": "1672cb1e-0f52-493b-e04d-60857b5a516f",
    "ExecuteTime": {
     "end_time": "2025-05-26T16:14:49.222696Z",
     "start_time": "2025-05-26T16:14:49.194108Z"
    }
   },
   "source": [
    "validAge = users[users['Age'] <= 80]\n",
    "validAge = validAge[validAge['Age'] >= 10]\n",
    "\n",
    "mean = round(validAge['Age'].mean())\n",
    "mean"
   ],
   "outputs": [
    {
     "data": {
      "text/plain": [
       "35"
      ]
     },
     "execution_count": 34,
     "metadata": {},
     "output_type": "execute_result"
    }
   ],
   "execution_count": 34
  },
  {
   "cell_type": "code",
   "metadata": {
    "executionInfo": {
     "elapsed": 8,
     "status": "ok",
     "timestamp": 1677413205736,
     "user": {
      "displayName": "Brian Baert",
      "userId": "10594924534974534320"
     },
     "user_tz": -60
    },
    "id": "zKiRO3esDRsC",
    "ExecuteTime": {
     "end_time": "2025-05-26T16:14:49.521789Z",
     "start_time": "2025-05-26T16:14:49.494255Z"
    }
   },
   "source": [
    "users.loc[users['Age'] > 80, 'Age'] = mean\n",
    "users.loc[users['Age'] < 10, 'Age'] = mean\n",
    "users['Age'] = users['Age'].fillna(mean)\n",
    "users['Age'] = users['Age'].astype(int)"
   ],
   "outputs": [],
   "execution_count": 35
  },
  {
   "cell_type": "code",
   "metadata": {
    "colab": {
     "base_uri": "https://localhost:8080/"
    },
    "executionInfo": {
     "elapsed": 16517,
     "status": "ok",
     "timestamp": 1677413222244,
     "user": {
      "displayName": "Brian Baert",
      "userId": "10594924534974534320"
     },
     "user_tz": -60
    },
    "id": "IlPRLcL7CokT",
    "outputId": "5b1b6d16-b3cd-4e2c-c6a8-8e9ac0b746ba",
    "ExecuteTime": {
     "end_time": "2025-05-26T16:15:01.533069Z",
     "start_time": "2025-05-26T16:14:49.722098Z"
    }
   },
   "source": [
    "# Split the location column appropriately\n",
    "# this code is given\n",
    "\n",
    "list_ = users.Location.str.split(', ')\n",
    "\n",
    "city = []\n",
    "state = []\n",
    "country = []\n",
    "count_no_state = 0    \n",
    "count_no_country = 0\n",
    "\n",
    "for i in range(0,len(list_)):\n",
    "    if list_[i][0] == ' ' or list_[i][0] == '' or list_[i][0]=='n/a' or list_[i][0] == ',':  #removing invalid entries too\n",
    "        city.append('other')\n",
    "    else:\n",
    "        city.append(list_[i][0].lower())\n",
    "\n",
    "    if(len(list_[i])<2):\n",
    "        state.append('other')\n",
    "        country.append('other')\n",
    "        count_no_state += 1\n",
    "        count_no_country += 1\n",
    "    else:\n",
    "        if list_[i][1] == ' ' or list_[i][1] == '' or list_[i][1]=='n/a' or list_[i][1] == ',':   #removing invalid entries \n",
    "            state.append('other')\n",
    "            count_no_state += 1            \n",
    "        else:\n",
    "            state.append(list_[i][1].lower())\n",
    "        \n",
    "        if(len(list_[i])<3):\n",
    "            country.append('other')\n",
    "            count_no_country += 1\n",
    "        else:\n",
    "            if list_[i][2] == ''or list_[i][1] == ',' or list_[i][2] == ' ' or list_[i][2] == 'n/a':\n",
    "                country.append('other')\n",
    "                count_no_country += 1\n",
    "            else:\n",
    "                country.append(list_[i][2].lower())\n",
    "        \n",
    "users = users.drop('Location',axis=1)\n",
    "\n",
    "temp = []\n",
    "for ent in city:\n",
    "    c = ent.split('/')            #handling cases where city/state entries from city list as state is already given \n",
    "    temp.append(c[0])\n",
    "\n",
    "df_city = pd.DataFrame(temp,columns=['City'])\n",
    "df_state = pd.DataFrame(state,columns=['State'])\n",
    "df_country = pd.DataFrame(country,columns=['Country'])\n",
    "\n",
    "users = pd.concat([users, df_city], axis=1)\n",
    "users = pd.concat([users, df_state], axis=1)\n",
    "users = pd.concat([users, df_country], axis=1)\n",
    "\n",
    "print(count_no_country)   #printing the number of countries didnt have any values \n",
    "print(count_no_state)     #printing the states which didnt have any values"
   ],
   "outputs": [
    {
     "name": "stdout",
     "output_type": "stream",
     "text": [
      "4659\n",
      "16044\n"
     ]
    }
   ],
   "execution_count": 36
  },
  {
   "cell_type": "code",
   "metadata": {
    "executionInfo": {
     "elapsed": 433,
     "status": "ok",
     "timestamp": 1677413222666,
     "user": {
      "displayName": "Brian Baert",
      "userId": "10594924534974534320"
     },
     "user_tz": -60
    },
    "id": "IicvJz10Crwf",
    "ExecuteTime": {
     "end_time": "2025-05-26T16:15:01.781157Z",
     "start_time": "2025-05-26T16:15:01.577451Z"
    }
   },
   "source": [
    "# Remove duplicate rows\n",
    "users.drop_duplicates(keep='last', inplace=True)\n",
    "users.reset_index(drop=True, inplace=True)"
   ],
   "outputs": [],
   "execution_count": 37
  },
  {
   "cell_type": "code",
   "metadata": {
    "colab": {
     "base_uri": "https://localhost:8080/"
    },
    "executionInfo": {
     "elapsed": 8,
     "status": "ok",
     "timestamp": 1677413222667,
     "user": {
      "displayName": "Brian Baert",
      "userId": "10594924534974534320"
     },
     "user_tz": -60
    },
    "id": "rTmvponsCtIM",
    "outputId": "922aefe6-62fc-487d-ffa3-74869835d882",
    "ExecuteTime": {
     "end_time": "2025-05-26T16:15:01.898628Z",
     "start_time": "2025-05-26T16:15:01.825280Z"
    }
   },
   "source": [
    "users.info()"
   ],
   "outputs": [
    {
     "name": "stdout",
     "output_type": "stream",
     "text": [
      "<class 'pandas.core.frame.DataFrame'>\n",
      "RangeIndex: 278858 entries, 0 to 278857\n",
      "Data columns (total 5 columns):\n",
      " #   Column   Non-Null Count   Dtype \n",
      "---  ------   --------------   ----- \n",
      " 0   User-ID  278858 non-null  int64 \n",
      " 1   Age      278858 non-null  int64 \n",
      " 2   City     278858 non-null  object\n",
      " 3   State    278858 non-null  object\n",
      " 4   Country  278858 non-null  object\n",
      "dtypes: int64(2), object(3)\n",
      "memory usage: 10.6+ MB\n"
     ]
    }
   ],
   "execution_count": 38
  },
  {
   "cell_type": "code",
   "metadata": {
    "colab": {
     "base_uri": "https://localhost:8080/",
     "height": 206
    },
    "executionInfo": {
     "elapsed": 6,
     "status": "ok",
     "timestamp": 1677413222667,
     "user": {
      "displayName": "Brian Baert",
      "userId": "10594924534974534320"
     },
     "user_tz": -60
    },
    "id": "tmYioiRVEBSX",
    "outputId": "edeedf23-1436-4dee-c9c3-25d4d8538fbf",
    "ExecuteTime": {
     "end_time": "2025-05-26T16:15:02.013573Z",
     "start_time": "2025-05-26T16:15:01.994720Z"
    }
   },
   "source": [
    "users.head()"
   ],
   "outputs": [
    {
     "data": {
      "text/plain": [
       "   User-ID  Age         City            State         Country\n",
       "0        1   35          nyc         new york             usa\n",
       "1        2   18     stockton       california             usa\n",
       "2        3   35       moscow  yukon territory          russia\n",
       "3        4   17        porto         v.n.gaia        portugal\n",
       "4        5   35  farnborough            hants  united kingdom"
      ],
      "text/html": [
       "<div>\n",
       "<style scoped>\n",
       "    .dataframe tbody tr th:only-of-type {\n",
       "        vertical-align: middle;\n",
       "    }\n",
       "\n",
       "    .dataframe tbody tr th {\n",
       "        vertical-align: top;\n",
       "    }\n",
       "\n",
       "    .dataframe thead th {\n",
       "        text-align: right;\n",
       "    }\n",
       "</style>\n",
       "<table border=\"1\" class=\"dataframe\">\n",
       "  <thead>\n",
       "    <tr style=\"text-align: right;\">\n",
       "      <th></th>\n",
       "      <th>User-ID</th>\n",
       "      <th>Age</th>\n",
       "      <th>City</th>\n",
       "      <th>State</th>\n",
       "      <th>Country</th>\n",
       "    </tr>\n",
       "  </thead>\n",
       "  <tbody>\n",
       "    <tr>\n",
       "      <th>0</th>\n",
       "      <td>1</td>\n",
       "      <td>35</td>\n",
       "      <td>nyc</td>\n",
       "      <td>new york</td>\n",
       "      <td>usa</td>\n",
       "    </tr>\n",
       "    <tr>\n",
       "      <th>1</th>\n",
       "      <td>2</td>\n",
       "      <td>18</td>\n",
       "      <td>stockton</td>\n",
       "      <td>california</td>\n",
       "      <td>usa</td>\n",
       "    </tr>\n",
       "    <tr>\n",
       "      <th>2</th>\n",
       "      <td>3</td>\n",
       "      <td>35</td>\n",
       "      <td>moscow</td>\n",
       "      <td>yukon territory</td>\n",
       "      <td>russia</td>\n",
       "    </tr>\n",
       "    <tr>\n",
       "      <th>3</th>\n",
       "      <td>4</td>\n",
       "      <td>17</td>\n",
       "      <td>porto</td>\n",
       "      <td>v.n.gaia</td>\n",
       "      <td>portugal</td>\n",
       "    </tr>\n",
       "    <tr>\n",
       "      <th>4</th>\n",
       "      <td>5</td>\n",
       "      <td>35</td>\n",
       "      <td>farnborough</td>\n",
       "      <td>hants</td>\n",
       "      <td>united kingdom</td>\n",
       "    </tr>\n",
       "  </tbody>\n",
       "</table>\n",
       "</div>"
      ]
     },
     "execution_count": 39,
     "metadata": {},
     "output_type": "execute_result"
    }
   ],
   "execution_count": 39
  },
  {
   "cell_type": "markdown",
   "metadata": {
    "id": "YtdpIm-tJKer"
   },
   "source": [
    "**Merge the tables**\n",
    "\n",
    "Merge (inner join) the `Books`, `Users` and `Ratings` tables to one"
   ]
  },
  {
   "cell_type": "code",
   "metadata": {
    "colab": {
     "base_uri": "https://localhost:8080/"
    },
    "executionInfo": {
     "elapsed": 3026,
     "status": "ok",
     "timestamp": 1677413225688,
     "user": {
      "displayName": "Brian Baert",
      "userId": "10594924534974534320"
     },
     "user_tz": -60
    },
    "id": "AuxFLNJYEB8I",
    "outputId": "3a0f5f33-b287-440b-b1cb-8cf1c516b349",
    "ExecuteTime": {
     "end_time": "2025-05-26T16:15:03.735945Z",
     "start_time": "2025-05-26T16:15:02.228220Z"
    }
   },
   "source": [
    "dataset = pd.merge(books, ratings, on='ISBN', how='inner')\n",
    "dataset = pd.merge(dataset, users, on='User-ID', how='inner')\n",
    "dataset.info()"
   ],
   "outputs": [
    {
     "name": "stdout",
     "output_type": "stream",
     "text": [
      "<class 'pandas.core.frame.DataFrame'>\n",
      "RangeIndex: 1031609 entries, 0 to 1031608\n",
      "Data columns (total 11 columns):\n",
      " #   Column               Non-Null Count    Dtype \n",
      "---  ------               --------------    ----- \n",
      " 0   ISBN                 1031609 non-null  object\n",
      " 1   Book-Title           1031609 non-null  object\n",
      " 2   Book-Author          1031608 non-null  object\n",
      " 3   Year-Of-Publication  1031609 non-null  int64 \n",
      " 4   Publisher            1031609 non-null  object\n",
      " 5   User-ID              1031609 non-null  int64 \n",
      " 6   Book-Rating          1031609 non-null  int64 \n",
      " 7   Age                  1031609 non-null  int64 \n",
      " 8   City                 1031609 non-null  object\n",
      " 9   State                1031609 non-null  object\n",
      " 10  Country              1031609 non-null  object\n",
      "dtypes: int64(4), object(7)\n",
      "memory usage: 86.6+ MB\n"
     ]
    }
   ],
   "execution_count": 40
  },
  {
   "cell_type": "markdown",
   "metadata": {
    "id": "inG4pJoXJ8SX"
   },
   "source": [
    "**Split the dataset**\n",
    "\n",
    "Splitting is done on the `Book-Rating` column, it can have an implicit rating (equal to 0) or and explicit rating (!= 0)"
   ]
  },
  {
   "cell_type": "code",
   "metadata": {
    "colab": {
     "base_uri": "https://localhost:8080/"
    },
    "executionInfo": {
     "elapsed": 838,
     "status": "ok",
     "timestamp": 1677413226523,
     "user": {
      "displayName": "Brian Baert",
      "userId": "10594924534974534320"
     },
     "user_tz": -60
    },
    "id": "vcJ9BoH_JqO4",
    "outputId": "c4d5b573-a037-48c9-a077-e907fafee74c",
    "ExecuteTime": {
     "end_time": "2025-05-26T16:15:04.001378Z",
     "start_time": "2025-05-26T16:15:03.793850Z"
    }
   },
   "source": [
    "explicit = dataset[dataset['Book-Rating'] != 0]\n",
    "explicit = explicit.reset_index(drop=True)\n",
    "explicit.shape"
   ],
   "outputs": [
    {
     "data": {
      "text/plain": [
       "(384074, 11)"
      ]
     },
     "execution_count": 41,
     "metadata": {},
     "output_type": "execute_result"
    }
   ],
   "execution_count": 41
  },
  {
   "cell_type": "code",
   "metadata": {
    "colab": {
     "base_uri": "https://localhost:8080/"
    },
    "executionInfo": {
     "elapsed": 456,
     "status": "ok",
     "timestamp": 1677413226975,
     "user": {
      "displayName": "Brian Baert",
      "userId": "10594924534974534320"
     },
     "user_tz": -60
    },
    "id": "tN6mdPltKRZK",
    "outputId": "328ad6cb-93b6-4678-b7de-cd23c2c466bf",
    "ExecuteTime": {
     "end_time": "2025-05-26T16:15:04.423725Z",
     "start_time": "2025-05-26T16:15:04.153881Z"
    }
   },
   "source": [
    "implicit = dataset[dataset['Book-Rating'] == 0]\n",
    "implicit = implicit.reset_index(drop=True)\n",
    "implicit.shape"
   ],
   "outputs": [
    {
     "data": {
      "text/plain": [
       "(647535, 11)"
      ]
     },
     "execution_count": 42,
     "metadata": {},
     "output_type": "execute_result"
    }
   ],
   "execution_count": 42
  },
  {
   "cell_type": "code",
   "metadata": {
    "executionInfo": {
     "elapsed": 9,
     "status": "ok",
     "timestamp": 1677413226975,
     "user": {
      "displayName": "Brian Baert",
      "userId": "10594924534974534320"
     },
     "user_tz": -60
    },
    "id": "30sdjZYHKrmo",
    "ExecuteTime": {
     "end_time": "2025-05-26T16:15:04.498491Z",
     "start_time": "2025-05-26T16:15:04.485609Z"
    }
   },
   "source": [],
   "outputs": [],
   "execution_count": null
  },
  {
   "cell_type": "markdown",
   "metadata": {
    "id": "OA1pGNVaKh8i"
   },
   "source": [
    "##2 - Recommendation systems\n",
    "\n",
    "**2.1 - Most popular book**\n",
    "\n",
    "Sort the entire dataset on the ratings and recommend the top $n$ books.\n",
    "\n",
    "**2.2 - Most popular book in a country**\n",
    "\n",
    "Sort the entire dataset like in 2.1, but now filter according to a country to recommend the top $n$ books.\n",
    "\n",
    "**2.3 - Use the average weighted rating**\n",
    "\n",
    "Calculate the weighted score with: \n",
    "\\begin{equation}WR = \\left({{v} \\over {v} + {m}} \\cdot R\\right) + \\left({{ m} \\over { v} + { m}} \\cdot C\\right) \\end{equation}\n",
    "\n",
    "where:\n",
    "\n",
    "*   $v$ (```rating_count```) is the number of ratings received\n",
    "*   $m$ is the minimum number of total ratings to be listed\n",
    "*   $R$ (```rating_average```) is the average rating of the book\n",
    "*   $C$ is the mean rating across all books\n",
    "\n",
    "**2.4 Collaborative Filter - User-item based**\n",
    "\n",
    "CF system with cosine similarity in ratings by different users to recommend the books. Prefer to take a subset of books with high ratings.\n",
    "\n",
    "**2.5 Content based Filter**\n",
    "\n",
    "Calculate similarities in Book Titles, make use of the TF-IDF feature vector. Because of computational issues, prefer only books with very high ratings.\n"
   ]
  },
  {
   "cell_type": "code",
   "metadata": {
    "colab": {
     "base_uri": "https://localhost:8080/"
    },
    "executionInfo": {
     "elapsed": 7021,
     "status": "ok",
     "timestamp": 1677413233994,
     "user": {
      "displayName": "Brian Baert",
      "userId": "10594924534974534320"
     },
     "user_tz": -60
    },
    "id": "1SvrXw86NWOh",
    "outputId": "394ba1d8-50ef-40d2-c619-2ce9dda3644f",
    "ExecuteTime": {
     "end_time": "2025-05-26T16:15:17.529679Z",
     "start_time": "2025-05-26T16:15:04.556249Z"
    }
   },
   "source": [
    "# We make sure our system is dynamic, so we first ask the user for a book name and the number of books to recommend\n",
    "bookName = input(\"What book do you like? \") # Harry Potter and the Sorcerer's Stone (Harry Potter (Paperback))\n",
    "nrOfRec = int(input(\"How many books do you want us to recommend? \")) #5"
   ],
   "outputs": [],
   "execution_count": 43
  },
  {
   "cell_type": "code",
   "metadata": {
    "executionInfo": {
     "elapsed": 4,
     "status": "ok",
     "timestamp": 1677413233994,
     "user": {
      "displayName": "Brian Baert",
      "userId": "10594924534974534320"
     },
     "user_tz": -60
    },
    "id": "-1LoZxWOKYPP",
    "ExecuteTime": {
     "end_time": "2025-05-26T16:15:17.678519Z",
     "start_time": "2025-05-26T16:15:17.667507Z"
    }
   },
   "source": [
    "# Most popular book\n",
    "def mostPopularBook(dataframe, n):\n",
    "  if (n >= 1 and n <= len(dataframe)):\n",
    "    data = pd.DataFrame(dataframe.groupby('ISBN')['Book-Rating'].count()).sort_values('Book-Rating', ascending=False).head(n)\n",
    "    result = pd.merge(data, books, on='ISBN')\n",
    "    return result\n",
    "  return \"Invalid nr of books entered.\""
   ],
   "outputs": [],
   "execution_count": 44
  },
  {
   "cell_type": "code",
   "metadata": {
    "colab": {
     "base_uri": "https://localhost:8080/",
     "height": 225
    },
    "executionInfo": {
     "elapsed": 456,
     "status": "ok",
     "timestamp": 1677413234447,
     "user": {
      "displayName": "Brian Baert",
      "userId": "10594924534974534320"
     },
     "user_tz": -60
    },
    "id": "nBqcaADIOKDH",
    "outputId": "7cd49212-eaf9-40e0-fd6b-4d0d6774f74a",
    "ExecuteTime": {
     "end_time": "2025-05-26T16:15:18.063163Z",
     "start_time": "2025-05-26T16:15:17.762468Z"
    }
   },
   "source": [
    "print(\"We recommend \", nrOfRec, \" popular books: \")\n",
    "mostPopularBook(explicit, nrOfRec)"
   ],
   "outputs": [
    {
     "name": "stdout",
     "output_type": "stream",
     "text": [
      "We recommend  4  popular books: \n"
     ]
    },
    {
     "data": {
      "text/plain": [
       "         ISBN  Book-Rating                           Book-Title  \\\n",
       "0  0316666343          707            The Lovely Bones: A Novel   \n",
       "1  0971880107          581                          Wild Animus   \n",
       "2  0385504209          488                    The Da Vinci Code   \n",
       "3  0312195516          383  The Red Tent (Bestselling Backlist)   \n",
       "\n",
       "     Book-Author  Year-Of-Publication      Publisher  \n",
       "0   Alice Sebold                 2002  Little, Brown  \n",
       "1   Rich Shapero                 2004        Too Far  \n",
       "2      Dan Brown                 2003      Doubleday  \n",
       "3  Anita Diamant                 1998    Picador USA  "
      ],
      "text/html": [
       "<div>\n",
       "<style scoped>\n",
       "    .dataframe tbody tr th:only-of-type {\n",
       "        vertical-align: middle;\n",
       "    }\n",
       "\n",
       "    .dataframe tbody tr th {\n",
       "        vertical-align: top;\n",
       "    }\n",
       "\n",
       "    .dataframe thead th {\n",
       "        text-align: right;\n",
       "    }\n",
       "</style>\n",
       "<table border=\"1\" class=\"dataframe\">\n",
       "  <thead>\n",
       "    <tr style=\"text-align: right;\">\n",
       "      <th></th>\n",
       "      <th>ISBN</th>\n",
       "      <th>Book-Rating</th>\n",
       "      <th>Book-Title</th>\n",
       "      <th>Book-Author</th>\n",
       "      <th>Year-Of-Publication</th>\n",
       "      <th>Publisher</th>\n",
       "    </tr>\n",
       "  </thead>\n",
       "  <tbody>\n",
       "    <tr>\n",
       "      <th>0</th>\n",
       "      <td>0316666343</td>\n",
       "      <td>707</td>\n",
       "      <td>The Lovely Bones: A Novel</td>\n",
       "      <td>Alice Sebold</td>\n",
       "      <td>2002</td>\n",
       "      <td>Little, Brown</td>\n",
       "    </tr>\n",
       "    <tr>\n",
       "      <th>1</th>\n",
       "      <td>0971880107</td>\n",
       "      <td>581</td>\n",
       "      <td>Wild Animus</td>\n",
       "      <td>Rich Shapero</td>\n",
       "      <td>2004</td>\n",
       "      <td>Too Far</td>\n",
       "    </tr>\n",
       "    <tr>\n",
       "      <th>2</th>\n",
       "      <td>0385504209</td>\n",
       "      <td>488</td>\n",
       "      <td>The Da Vinci Code</td>\n",
       "      <td>Dan Brown</td>\n",
       "      <td>2003</td>\n",
       "      <td>Doubleday</td>\n",
       "    </tr>\n",
       "    <tr>\n",
       "      <th>3</th>\n",
       "      <td>0312195516</td>\n",
       "      <td>383</td>\n",
       "      <td>The Red Tent (Bestselling Backlist)</td>\n",
       "      <td>Anita Diamant</td>\n",
       "      <td>1998</td>\n",
       "      <td>Picador USA</td>\n",
       "    </tr>\n",
       "  </tbody>\n",
       "</table>\n",
       "</div>"
      ]
     },
     "execution_count": 45,
     "metadata": {},
     "output_type": "execute_result"
    }
   ],
   "execution_count": 45
  },
  {
   "cell_type": "code",
   "metadata": {
    "colab": {
     "base_uri": "https://localhost:8080/",
     "height": 225
    },
    "executionInfo": {
     "elapsed": 5472,
     "status": "ok",
     "timestamp": 1677413239915,
     "user": {
      "displayName": "Brian Baert",
      "userId": "10594924534974534320"
     },
     "user_tz": -60
    },
    "id": "2Xfpa70yNI_1",
    "outputId": "8d537248-5c24-4430-b538-023feeaeb078",
    "ExecuteTime": {
     "end_time": "2025-05-26T16:15:23.987179Z",
     "start_time": "2025-05-26T16:15:18.152462Z"
    }
   },
   "source": [
    "# Most popular book in a country\n",
    "place = input(\"Enter the name of a country: \").lower() # India\n",
    "booksPerCountry = explicit[explicit['Country'] == place]\n",
    "mostPopularBook(booksPerCountry,nrOfRec)"
   ],
   "outputs": [
    {
     "data": {
      "text/plain": [
       "         ISBN  Book-Rating                                   Book-Title  \\\n",
       "0  0971880107            3                                  Wild Animus   \n",
       "1  2742708448            2           Pourquoi j'ai mangÃ?Â© mon pÃ?Â¨re   \n",
       "2  2266104535            2  Et Si C'Etait Vrai / If This Were Only True   \n",
       "3  184195425X            2                                   Life of Pi   \n",
       "\n",
       "    Book-Author  Year-Of-Publication       Publisher  \n",
       "0  Rich Shapero                 2004         Too Far  \n",
       "1     Roy Lewis                 1996       Actes Sud  \n",
       "2     Marc Levy                 2001          Pocket  \n",
       "3   Yann Martel                 2004  Pub Group West  "
      ],
      "text/html": [
       "<div>\n",
       "<style scoped>\n",
       "    .dataframe tbody tr th:only-of-type {\n",
       "        vertical-align: middle;\n",
       "    }\n",
       "\n",
       "    .dataframe tbody tr th {\n",
       "        vertical-align: top;\n",
       "    }\n",
       "\n",
       "    .dataframe thead th {\n",
       "        text-align: right;\n",
       "    }\n",
       "</style>\n",
       "<table border=\"1\" class=\"dataframe\">\n",
       "  <thead>\n",
       "    <tr style=\"text-align: right;\">\n",
       "      <th></th>\n",
       "      <th>ISBN</th>\n",
       "      <th>Book-Rating</th>\n",
       "      <th>Book-Title</th>\n",
       "      <th>Book-Author</th>\n",
       "      <th>Year-Of-Publication</th>\n",
       "      <th>Publisher</th>\n",
       "    </tr>\n",
       "  </thead>\n",
       "  <tbody>\n",
       "    <tr>\n",
       "      <th>0</th>\n",
       "      <td>0971880107</td>\n",
       "      <td>3</td>\n",
       "      <td>Wild Animus</td>\n",
       "      <td>Rich Shapero</td>\n",
       "      <td>2004</td>\n",
       "      <td>Too Far</td>\n",
       "    </tr>\n",
       "    <tr>\n",
       "      <th>1</th>\n",
       "      <td>2742708448</td>\n",
       "      <td>2</td>\n",
       "      <td>Pourquoi j'ai mangÃ?Â© mon pÃ?Â¨re</td>\n",
       "      <td>Roy Lewis</td>\n",
       "      <td>1996</td>\n",
       "      <td>Actes Sud</td>\n",
       "    </tr>\n",
       "    <tr>\n",
       "      <th>2</th>\n",
       "      <td>2266104535</td>\n",
       "      <td>2</td>\n",
       "      <td>Et Si C'Etait Vrai / If This Were Only True</td>\n",
       "      <td>Marc Levy</td>\n",
       "      <td>2001</td>\n",
       "      <td>Pocket</td>\n",
       "    </tr>\n",
       "    <tr>\n",
       "      <th>3</th>\n",
       "      <td>184195425X</td>\n",
       "      <td>2</td>\n",
       "      <td>Life of Pi</td>\n",
       "      <td>Yann Martel</td>\n",
       "      <td>2004</td>\n",
       "      <td>Pub Group West</td>\n",
       "    </tr>\n",
       "  </tbody>\n",
       "</table>\n",
       "</div>"
      ]
     },
     "execution_count": 46,
     "metadata": {},
     "output_type": "execute_result"
    }
   ],
   "execution_count": 46
  },
  {
   "cell_type": "code",
   "metadata": {
    "executionInfo": {
     "elapsed": 5,
     "status": "ok",
     "timestamp": 1677413239916,
     "user": {
      "displayName": "Brian Baert",
      "userId": "10594924534974534320"
     },
     "user_tz": -60
    },
    "id": "9pRFMeA3NLGZ",
    "ExecuteTime": {
     "end_time": "2025-05-26T16:15:24.225628Z",
     "start_time": "2025-05-26T16:15:24.212781Z"
    }
   },
   "source": [
    "# Average Weighted Rating\n",
    "def avgWR(newdf, df):\n",
    "  newdf['Average Rating'] = 0\n",
    "  for x in range(len(newdf)):\n",
    "    l = list(df.loc[df['Book-Title'] == newdf['Book-Title'][x]]['Book-Rating'])\n",
    "    newdf['Average Rating'][x] = sum(l)/len(l)\n",
    "  return newdf"
   ],
   "outputs": [],
   "execution_count": 47
  },
  {
   "cell_type": "code",
   "metadata": {
    "executionInfo": {
     "elapsed": 468,
     "status": "ok",
     "timestamp": 1677413240380,
     "user": {
      "displayName": "Brian Baert",
      "userId": "10594924534974534320"
     },
     "user_tz": -60
    },
    "id": "bBLCD1YlQvMh",
    "ExecuteTime": {
     "end_time": "2025-05-26T16:15:25.046790Z",
     "start_time": "2025-05-26T16:15:24.467784Z"
    }
   },
   "source": [
    "\n",
    "counts = explicit['Book-Title'].value_counts()\n",
    "df = pd.DataFrame()\n",
    "df['Book-Title'] = counts.index\n",
    "df['Total-Ratings'] = df['Book-Title'].map(lambda item : counts[item])\n",
    "\n",
    "#df = avgWR(df, explicit)\n",
    "#df.to_pickle('weightedData.pkl')"
   ],
   "outputs": [],
   "execution_count": 48
  },
  {
   "cell_type": "code",
   "metadata": {
    "executionInfo": {
     "elapsed": 8,
     "status": "ok",
     "timestamp": 1677413240380,
     "user": {
      "displayName": "Brian Baert",
      "userId": "10594924534974534320"
     },
     "user_tz": -60
    },
    "id": "D_82cXU2RNud",
    "ExecuteTime": {
     "end_time": "2025-05-26T16:15:25.147235Z",
     "start_time": "2025-05-26T16:15:25.105350Z"
    }
   },
   "source": [
    "# if the pickle file is already made:\n",
    "df = pd.read_pickle('Books/weightedData.pkl')\n"
   ],
   "outputs": [],
   "execution_count": 49
  },
  {
   "cell_type": "code",
   "metadata": {
    "executionInfo": {
     "elapsed": 8,
     "status": "ok",
     "timestamp": 1677413240381,
     "user": {
      "displayName": "Brian Baert",
      "userId": "10594924534974534320"
     },
     "user_tz": -60
    },
    "id": "WyyfI9STe2HP",
    "ExecuteTime": {
     "end_time": "2025-05-26T16:15:25.226032Z",
     "start_time": "2025-05-26T16:15:25.213879Z"
    }
   },
   "source": [
    "C = df['Average Rating'].mean()\n",
    "m = df['Total-Ratings'].quantile(0.90)"
   ],
   "outputs": [],
   "execution_count": 50
  },
  {
   "cell_type": "code",
   "metadata": {
    "executionInfo": {
     "elapsed": 8,
     "status": "ok",
     "timestamp": 1677413240382,
     "user": {
      "displayName": "Brian Baert",
      "userId": "10594924534974534320"
     },
     "user_tz": -60
    },
    "id": "pJrMljokfGtW",
    "ExecuteTime": {
     "end_time": "2025-05-26T16:15:25.280853Z",
     "start_time": "2025-05-26T16:15:25.268064Z"
    }
   },
   "source": [
    "def WR(x,m=m,C=C):\n",
    "  v = x['Total-Ratings']\n",
    "  R = x['Average Rating']\n",
    "  return (v/(v+m)*R) + (m/(m+v)*C)"
   ],
   "outputs": [],
   "execution_count": 51
  },
  {
   "cell_type": "code",
   "metadata": {
    "colab": {
     "base_uri": "https://localhost:8080/",
     "height": 243
    },
    "executionInfo": {
     "elapsed": 310,
     "status": "ok",
     "timestamp": 1677413240684,
     "user": {
      "displayName": "Brian Baert",
      "userId": "10594924534974534320"
     },
     "user_tz": -60
    },
    "id": "-dZVfY82frCh",
    "outputId": "d2f80851-f537-44da-c41e-d55b1cbc03ff",
    "ExecuteTime": {
     "end_time": "2025-05-26T16:15:25.498206Z",
     "start_time": "2025-05-26T16:15:25.336693Z"
    }
   },
   "source": [
    "df = df.loc[df['Total-Ratings'] >= m]\n",
    "\n",
    "df['score'] = df.apply(WR, axis=1)\n",
    "df = df.sort_values('score', ascending=False)\n",
    "\n",
    "print(\"Because you like \", bookName, \", we recommend the following \", nrOfRec, \" books: \\n\")\n",
    "df.head(nrOfRec)"
   ],
   "outputs": [
    {
     "name": "stdout",
     "output_type": "stream",
     "text": [
      "Because you like  clara , we recommend the following  4  books: \n",
      "\n"
     ]
    },
    {
     "data": {
      "text/plain": [
       "                                             Book-Title  Total-Ratings  \\\n",
       "4794   Postmarked Yesteryear: 30 Rare Holiday Postcards             11   \n",
       "7272                    The Sneetches and Other Stories              8   \n",
       "17    Harry Potter and the Prisoner of Azkaban (Book 3)            277   \n",
       "28         Harry Potter and the Goblet of Fire (Book 4)            247   \n",
       "\n",
       "      Average Rating     score  \n",
       "4794              10  9.189906  \n",
       "7272              10  9.002961  \n",
       "17                 9  8.971768  \n",
       "28                 9  8.968407  "
      ],
      "text/html": [
       "<div>\n",
       "<style scoped>\n",
       "    .dataframe tbody tr th:only-of-type {\n",
       "        vertical-align: middle;\n",
       "    }\n",
       "\n",
       "    .dataframe tbody tr th {\n",
       "        vertical-align: top;\n",
       "    }\n",
       "\n",
       "    .dataframe thead th {\n",
       "        text-align: right;\n",
       "    }\n",
       "</style>\n",
       "<table border=\"1\" class=\"dataframe\">\n",
       "  <thead>\n",
       "    <tr style=\"text-align: right;\">\n",
       "      <th></th>\n",
       "      <th>Book-Title</th>\n",
       "      <th>Total-Ratings</th>\n",
       "      <th>Average Rating</th>\n",
       "      <th>score</th>\n",
       "    </tr>\n",
       "  </thead>\n",
       "  <tbody>\n",
       "    <tr>\n",
       "      <th>4794</th>\n",
       "      <td>Postmarked Yesteryear: 30 Rare Holiday Postcards</td>\n",
       "      <td>11</td>\n",
       "      <td>10</td>\n",
       "      <td>9.189906</td>\n",
       "    </tr>\n",
       "    <tr>\n",
       "      <th>7272</th>\n",
       "      <td>The Sneetches and Other Stories</td>\n",
       "      <td>8</td>\n",
       "      <td>10</td>\n",
       "      <td>9.002961</td>\n",
       "    </tr>\n",
       "    <tr>\n",
       "      <th>17</th>\n",
       "      <td>Harry Potter and the Prisoner of Azkaban (Book 3)</td>\n",
       "      <td>277</td>\n",
       "      <td>9</td>\n",
       "      <td>8.971768</td>\n",
       "    </tr>\n",
       "    <tr>\n",
       "      <th>28</th>\n",
       "      <td>Harry Potter and the Goblet of Fire (Book 4)</td>\n",
       "      <td>247</td>\n",
       "      <td>9</td>\n",
       "      <td>8.968407</td>\n",
       "    </tr>\n",
       "  </tbody>\n",
       "</table>\n",
       "</div>"
      ]
     },
     "execution_count": 52,
     "metadata": {},
     "output_type": "execute_result"
    }
   ],
   "execution_count": 52
  },
  {
   "cell_type": "code",
   "metadata": {
    "executionInfo": {
     "elapsed": 1053,
     "status": "ok",
     "timestamp": 1677413241735,
     "user": {
      "displayName": "Brian Baert",
      "userId": "10594924534974534320"
     },
     "user_tz": -60
    },
    "id": "nMq7QBMHNNCY",
    "ExecuteTime": {
     "end_time": "2025-05-26T16:15:26.424588Z",
     "start_time": "2025-05-26T16:15:25.670869Z"
    }
   },
   "source": [
    "# Collaborative Filter (User-Item based)\n",
    "# we pick only books with a rating > 60\n",
    "counts = explicit['Book-Title'].value_counts()\n",
    "df = pd.DataFrame()\n",
    "df['Book-Title'] = counts.index\n",
    "df['Total-Ratings'] = df['Book-Title'].map(lambda item: counts[item])\n",
    "\n",
    "df = explicit.merge(df, left_on='Book-Title', right_on='Book-Title', how='left')\n",
    "df = df.drop(['Year-Of-Publication', 'Publisher', 'Age', 'City', 'State', 'Country'], axis=1)"
   ],
   "outputs": [],
   "execution_count": 53
  },
  {
   "cell_type": "code",
   "metadata": {
    "executionInfo": {
     "elapsed": 4,
     "status": "ok",
     "timestamp": 1677413241735,
     "user": {
      "displayName": "Brian Baert",
      "userId": "10594924534974534320"
     },
     "user_tz": -60
    },
    "id": "Zfp1ZYOAg7R4",
    "ExecuteTime": {
     "end_time": "2025-05-26T16:15:26.545340Z",
     "start_time": "2025-05-26T16:15:26.520434Z"
    }
   },
   "source": [
    "treshold = 60\n",
    "subsetExplicit = df[df['Total-Ratings'] >= treshold]\n",
    "subsetExplicit = subsetExplicit.reset_index(drop=True)\n",
    "#subsetExplicit.head()"
   ],
   "outputs": [],
   "execution_count": 54
  },
  {
   "cell_type": "code",
   "metadata": {
    "executionInfo": {
     "elapsed": 4,
     "status": "ok",
     "timestamp": 1677413241736,
     "user": {
      "displayName": "Brian Baert",
      "userId": "10594924534974534320"
     },
     "user_tz": -60
    },
    "id": "Hz7YrH_4hRrq",
    "ExecuteTime": {
     "end_time": "2025-05-26T16:15:26.658788Z",
     "start_time": "2025-05-26T16:15:26.642820Z"
    }
   },
   "source": [
    "# User-Item CF\n",
    "# first create a new dataframe grouped by ISBN number (index) and only containing User-ID and Book-Rating\n",
    "userRatingDf = pd.DataFrame()\n",
    "userRatingDf['ISBN'] = subsetExplicit['ISBN']\n",
    "userRatingDf['Book-Rating'] = subsetExplicit['Book-Rating']\n",
    "userRatingDf['User-ID'] = subsetExplicit['User-ID']\n",
    "userRatingDf = userRatingDf[['User-ID','Book-Rating']].groupby(userRatingDf['ISBN'])\n",
    "#userRatingDf.head()"
   ],
   "outputs": [],
   "execution_count": 55
  },
  {
   "cell_type": "code",
   "metadata": {
    "executionInfo": {
     "elapsed": 3775,
     "status": "ok",
     "timestamp": 1677413245507,
     "user": {
      "displayName": "Brian Baert",
      "userId": "10594924534974534320"
     },
     "user_tz": -60
    },
    "id": "de7GZaLSiyBo",
    "ExecuteTime": {
     "end_time": "2025-05-26T16:15:29.612531Z",
     "start_time": "2025-05-26T16:15:26.744591Z"
    }
   },
   "source": [
    "# Vectorizing the group keys and calculating the similarity matrix\n",
    "listOfDictonaries=[]\n",
    "indexMap = {}\n",
    "reverseIndexMap = {}\n",
    "ptr=0\n",
    "\n",
    "for groupKey in userRatingDf.groups.keys():  #this runs over all isbn numbers\n",
    "    tempDict={}\n",
    "    groupDF = userRatingDf.get_group(groupKey)\n",
    "    for i in range(0,len(groupDF)):\n",
    "        tempDict[groupDF.iloc[i,0]] = groupDF.iloc[i,1]\n",
    "    indexMap[ptr]=groupKey\n",
    "    reverseIndexMap[groupKey] = ptr\n",
    "    ptr=ptr+1\n",
    "    listOfDictonaries.append(tempDict)\n",
    "\n",
    "dictVectorizer = DictVectorizer(sparse=True)\n",
    "vector = dictVectorizer.fit_transform(listOfDictonaries)\n",
    "pairwiseSimilarity = cosine_similarity(vector)"
   ],
   "outputs": [],
   "execution_count": 56
  },
  {
   "cell_type": "code",
   "metadata": {
    "colab": {
     "base_uri": "https://localhost:8080/"
    },
    "executionInfo": {
     "elapsed": 314,
     "status": "ok",
     "timestamp": 1677413423881,
     "user": {
      "displayName": "Brian Baert",
      "userId": "10594924534974534320"
     },
     "user_tz": -60
    },
    "id": "6F4FdJWToSGh",
    "outputId": "3f47da10-70e1-488c-af9f-50500595e4ee",
    "ExecuteTime": {
     "end_time": "2025-05-26T16:15:29.676881Z",
     "start_time": "2025-05-26T16:15:29.664045Z"
    }
   },
   "source": [
    "vector"
   ],
   "outputs": [
    {
     "data": {
      "text/plain": [
       "<1500x22940 sparse matrix of type '<class 'numpy.float64'>'\n",
       "\twith 57376 stored elements in Compressed Sparse Row format>"
      ]
     },
     "execution_count": 57,
     "metadata": {},
     "output_type": "execute_result"
    }
   ],
   "execution_count": 57
  },
  {
   "cell_type": "code",
   "metadata": {
    "executionInfo": {
     "elapsed": 14,
     "status": "ok",
     "timestamp": 1677413245508,
     "user": {
      "displayName": "Brian Baert",
      "userId": "10594924534974534320"
     },
     "user_tz": -60
    },
    "id": "-Ncv0qm6jcqN",
    "ExecuteTime": {
     "end_time": "2025-05-26T16:15:29.794812Z",
     "start_time": "2025-05-26T16:15:29.782005Z"
    }
   },
   "source": [
    "# make a function to print all book details\n",
    "def printDetails(bookID):\n",
    "  print(explicit[explicit['ISBN']==bookID]['Book-Title'].values[0])"
   ],
   "outputs": [],
   "execution_count": 58
  },
  {
   "cell_type": "code",
   "metadata": {
    "executionInfo": {
     "elapsed": 2,
     "status": "ok",
     "timestamp": 1677413952877,
     "user": {
      "displayName": "Brian Baert",
      "userId": "10594924534974534320"
     },
     "user_tz": -60
    },
    "id": "rUQpPTeGjrYu",
    "ExecuteTime": {
     "end_time": "2025-05-26T16:15:59.162804Z",
     "start_time": "2025-05-26T16:15:59.138315Z"
    }
   },
   "source": [
    "# make a function to give the top n recommendations\n",
    "def getCFRec(bookID):\n",
    "  CFRecList = []\n",
    "  row = reverseIndexMap[bookID]\n",
    "  print(\"Input book: \", printDetails(bookID), \"\\n recommendations: \\n\")\n",
    "  mn=0\n",
    "  similar=[]\n",
    "  print(row)\n",
    "  for i in np.argsort(pairwiseSimilarity[row])[:-2][::-1]:\n",
    "    if explicit[explicit['ISBN']==indexMap[i]]['Book-Title'].values[0] not in similar:\n",
    "      if mn>=nrOfRec:\n",
    "        break\n",
    "      mn+=1\n",
    "      similar.append(explicit[explicit['ISBN']==indexMap[i]]['Book-Title'].values[0])\n",
    "      printDetails(indexMap[i])\n",
    "      CFRecList.append(explicit[explicit['ISBN']==indexMap[i]]['Book-Title'].values[0])\n",
    "  return CFRecList"
   ],
   "outputs": [],
   "execution_count": 66
  },
  {
   "cell_type": "code",
   "metadata": {
    "colab": {
     "base_uri": "https://localhost:8080/"
    },
    "executionInfo": {
     "elapsed": 1335,
     "status": "ok",
     "timestamp": 1677413955947,
     "user": {
      "displayName": "Brian Baert",
      "userId": "10594924534974534320"
     },
     "user_tz": -60
    },
    "id": "JCZCBdb4krb1",
    "outputId": "312e2e09-90e0-4b76-a7b7-570d620902eb",
    "ExecuteTime": {
     "end_time": "2025-05-26T16:15:56.058147Z",
     "start_time": "2025-05-26T16:15:55.958766Z"
    }
   },
   "source": [
    "k = list(explicit['Book-Title'])\n",
    "m = list(explicit['ISBN'])\n",
    "\n",
    "CFRecList = getCFRec(m[k.index(bookName)])"
   ],
   "outputs": [
    {
     "ename": "ValueError",
     "evalue": "'clara' is not in list",
     "output_type": "error",
     "traceback": [
      "\u001B[1;31m---------------------------------------------------------------------------\u001B[0m",
      "\u001B[1;31mValueError\u001B[0m                                Traceback (most recent call last)",
      "Cell \u001B[1;32mIn[65], line 4\u001B[0m\n\u001B[0;32m      1\u001B[0m k \u001B[38;5;241m=\u001B[39m \u001B[38;5;28mlist\u001B[39m(explicit[\u001B[38;5;124m'\u001B[39m\u001B[38;5;124mBook-Title\u001B[39m\u001B[38;5;124m'\u001B[39m])\n\u001B[0;32m      2\u001B[0m m \u001B[38;5;241m=\u001B[39m \u001B[38;5;28mlist\u001B[39m(explicit[\u001B[38;5;124m'\u001B[39m\u001B[38;5;124mISBN\u001B[39m\u001B[38;5;124m'\u001B[39m])\n\u001B[1;32m----> 4\u001B[0m CFRecList \u001B[38;5;241m=\u001B[39m getCFRec(m[\u001B[43mk\u001B[49m\u001B[38;5;241;43m.\u001B[39;49m\u001B[43mindex\u001B[49m\u001B[43m(\u001B[49m\u001B[43mbookName\u001B[49m\u001B[43m)\u001B[49m])\n",
      "\u001B[1;31mValueError\u001B[0m: 'clara' is not in list"
     ]
    }
   ],
   "execution_count": 65
  },
  {
   "cell_type": "code",
   "metadata": {
    "executionInfo": {
     "elapsed": 330,
     "status": "ok",
     "timestamp": 1677414049744,
     "user": {
      "displayName": "Brian Baert",
      "userId": "10594924534974534320"
     },
     "user_tz": -60
    },
    "id": "8ybKyBkQNNcU",
    "ExecuteTime": {
     "end_time": "2025-05-26T16:15:42.294600Z",
     "start_time": "2025-05-26T16:15:42.272068Z"
    }
   },
   "source": [
    "# Content Based Filter\n",
    "# we first select books with a very high rating > 80\n",
    "treshold = 80\n",
    "subsetExplicit = df[df['Total-Ratings'] >= treshold]\n",
    "subsetExplicit = subsetExplicit.reset_index(drop=True)"
   ],
   "outputs": [],
   "execution_count": 61
  },
  {
   "cell_type": "code",
   "metadata": {
    "colab": {
     "base_uri": "https://localhost:8080/"
    },
    "executionInfo": {
     "elapsed": 1970,
     "status": "ok",
     "timestamp": 1677414081488,
     "user": {
      "displayName": "Brian Baert",
      "userId": "10594924534974534320"
     },
     "user_tz": -60
    },
    "id": "GHR6eDq9qyOx",
    "outputId": "9dfe341e-a717-475d-c467-f27b89834843",
    "ExecuteTime": {
     "end_time": "2025-05-26T16:15:45.212936Z",
     "start_time": "2025-05-26T16:15:44.899279Z"
    }
   },
   "source": [
    "# create the TF-IDF vectorizer\n",
    "tf = TfidfVectorizer(ngram_range=(1, 2), min_df = 1, stop_words='english')\n",
    "tfidf_matrix = tf.fit_transform(subsetExplicit['Book-Title'])\n",
    "tfidf_matrix.shape"
   ],
   "outputs": [
    {
     "data": {
      "text/plain": [
       "(44652, 1112)"
      ]
     },
     "execution_count": 62,
     "metadata": {},
     "output_type": "execute_result"
    }
   ],
   "execution_count": 62
  },
  {
   "cell_type": "code",
   "metadata": {
    "colab": {
     "base_uri": "https://localhost:8080/"
    },
    "executionInfo": {
     "elapsed": 17718,
     "status": "ok",
     "timestamp": 1677414122142,
     "user": {
      "displayName": "Brian Baert",
      "userId": "10594924534974534320"
     },
     "user_tz": -60
    },
    "id": "eL0tCJBuq5mG",
    "outputId": "a6e6bead-55f3-437c-b798-e0a60c9a9cdb",
    "ExecuteTime": {
     "end_time": "2025-05-26T16:15:48.034383Z",
     "start_time": "2025-05-26T16:15:46.394644Z"
    }
   },
   "source": [
    "# normalize the dataframe and calculate the cosine similarity matrix\n",
    "normalized_df = tfidf_matrix.astype(np.float32)\n",
    "cosine_similarities = cosine_similarity(normalized_df, normalized_df)\n",
    "cosine_similarities.shape"
   ],
   "outputs": [
    {
     "data": {
      "text/plain": [
       "(44652, 44652)"
      ]
     },
     "execution_count": 63,
     "metadata": {},
     "output_type": "execute_result"
    }
   ],
   "execution_count": 63
  },
  {
   "cell_type": "code",
   "metadata": {
    "colab": {
     "base_uri": "https://localhost:8080/"
    },
    "executionInfo": {
     "elapsed": 2154,
     "status": "ok",
     "timestamp": 1677414200990,
     "user": {
      "displayName": "Brian Baert",
      "userId": "10594924534974534320"
     },
     "user_tz": -60
    },
    "id": "1Jm7bukZq_p8",
    "outputId": "9da239cd-a4c1-48d1-a472-305551b29ab4",
    "ExecuteTime": {
     "end_time": "2025-05-26T16:15:50.408587Z",
     "start_time": "2025-05-26T16:15:50.207221Z"
    }
   },
   "source": [
    "# print the recommended books according to the content filter\n",
    "print(\"The content filter recommends the following books:\\n\")\n",
    "isbn = books.loc[books['Book-Title'] == bookName].reset_index(drop = True).iloc[0]['ISBN']\n",
    "content = []\n",
    "\n",
    "idx = subsetExplicit.index[subsetExplicit['ISBN'] == isbn].tolist()[0]\n",
    "similar_indices = cosine_similarities[idx].argsort()[::-1]\n",
    "similar_items = []\n",
    "for i in similar_indices:\n",
    "    if subsetExplicit['Book-Title'][i] != bookName and subsetExplicit['Book-Title'][i] not in similar_items and len(similar_items) < nrOfRec:\n",
    "        similar_items.append(subsetExplicit['Book-Title'][i])\n",
    "        content.append(subsetExplicit['Book-Title'][i])\n",
    "\n",
    "for book in similar_items:\n",
    "    print(book)"
   ],
   "outputs": [
    {
     "name": "stdout",
     "output_type": "stream",
     "text": [
      "The content filter recommends the following books:\n",
      "\n"
     ]
    },
    {
     "ename": "IndexError",
     "evalue": "single positional indexer is out-of-bounds",
     "output_type": "error",
     "traceback": [
      "\u001B[1;31m---------------------------------------------------------------------------\u001B[0m",
      "\u001B[1;31mIndexError\u001B[0m                                Traceback (most recent call last)",
      "Cell \u001B[1;32mIn[64], line 3\u001B[0m\n\u001B[0;32m      1\u001B[0m \u001B[38;5;66;03m# print the recommended books according to the content filter\u001B[39;00m\n\u001B[0;32m      2\u001B[0m \u001B[38;5;28mprint\u001B[39m(\u001B[38;5;124m\"\u001B[39m\u001B[38;5;124mThe content filter recommends the following books:\u001B[39m\u001B[38;5;130;01m\\n\u001B[39;00m\u001B[38;5;124m\"\u001B[39m)\n\u001B[1;32m----> 3\u001B[0m isbn \u001B[38;5;241m=\u001B[39m \u001B[43mbooks\u001B[49m\u001B[38;5;241;43m.\u001B[39;49m\u001B[43mloc\u001B[49m\u001B[43m[\u001B[49m\u001B[43mbooks\u001B[49m\u001B[43m[\u001B[49m\u001B[38;5;124;43m'\u001B[39;49m\u001B[38;5;124;43mBook-Title\u001B[39;49m\u001B[38;5;124;43m'\u001B[39;49m\u001B[43m]\u001B[49m\u001B[43m \u001B[49m\u001B[38;5;241;43m==\u001B[39;49m\u001B[43m \u001B[49m\u001B[43mbookName\u001B[49m\u001B[43m]\u001B[49m\u001B[38;5;241;43m.\u001B[39;49m\u001B[43mreset_index\u001B[49m\u001B[43m(\u001B[49m\u001B[43mdrop\u001B[49m\u001B[43m \u001B[49m\u001B[38;5;241;43m=\u001B[39;49m\u001B[43m \u001B[49m\u001B[38;5;28;43;01mTrue\u001B[39;49;00m\u001B[43m)\u001B[49m\u001B[38;5;241;43m.\u001B[39;49m\u001B[43miloc\u001B[49m\u001B[43m[\u001B[49m\u001B[38;5;241;43m0\u001B[39;49m\u001B[43m]\u001B[49m[\u001B[38;5;124m'\u001B[39m\u001B[38;5;124mISBN\u001B[39m\u001B[38;5;124m'\u001B[39m]\n\u001B[0;32m      4\u001B[0m content \u001B[38;5;241m=\u001B[39m []\n\u001B[0;32m      6\u001B[0m idx \u001B[38;5;241m=\u001B[39m subsetExplicit\u001B[38;5;241m.\u001B[39mindex[subsetExplicit[\u001B[38;5;124m'\u001B[39m\u001B[38;5;124mISBN\u001B[39m\u001B[38;5;124m'\u001B[39m] \u001B[38;5;241m==\u001B[39m isbn]\u001B[38;5;241m.\u001B[39mtolist()[\u001B[38;5;241m0\u001B[39m]\n",
      "File \u001B[1;32m~\\IdeaProjects\\AppliedArtificialIntelligence\\venv\\lib\\site-packages\\pandas\\core\\indexing.py:1191\u001B[0m, in \u001B[0;36m_LocationIndexer.__getitem__\u001B[1;34m(self, key)\u001B[0m\n\u001B[0;32m   1189\u001B[0m maybe_callable \u001B[38;5;241m=\u001B[39m com\u001B[38;5;241m.\u001B[39mapply_if_callable(key, \u001B[38;5;28mself\u001B[39m\u001B[38;5;241m.\u001B[39mobj)\n\u001B[0;32m   1190\u001B[0m maybe_callable \u001B[38;5;241m=\u001B[39m \u001B[38;5;28mself\u001B[39m\u001B[38;5;241m.\u001B[39m_check_deprecated_callable_usage(key, maybe_callable)\n\u001B[1;32m-> 1191\u001B[0m \u001B[38;5;28;01mreturn\u001B[39;00m \u001B[38;5;28;43mself\u001B[39;49m\u001B[38;5;241;43m.\u001B[39;49m\u001B[43m_getitem_axis\u001B[49m\u001B[43m(\u001B[49m\u001B[43mmaybe_callable\u001B[49m\u001B[43m,\u001B[49m\u001B[43m \u001B[49m\u001B[43maxis\u001B[49m\u001B[38;5;241;43m=\u001B[39;49m\u001B[43maxis\u001B[49m\u001B[43m)\u001B[49m\n",
      "File \u001B[1;32m~\\IdeaProjects\\AppliedArtificialIntelligence\\venv\\lib\\site-packages\\pandas\\core\\indexing.py:1752\u001B[0m, in \u001B[0;36m_iLocIndexer._getitem_axis\u001B[1;34m(self, key, axis)\u001B[0m\n\u001B[0;32m   1749\u001B[0m     \u001B[38;5;28;01mraise\u001B[39;00m \u001B[38;5;167;01mTypeError\u001B[39;00m(\u001B[38;5;124m\"\u001B[39m\u001B[38;5;124mCannot index by location index with a non-integer key\u001B[39m\u001B[38;5;124m\"\u001B[39m)\n\u001B[0;32m   1751\u001B[0m \u001B[38;5;66;03m# validate the location\u001B[39;00m\n\u001B[1;32m-> 1752\u001B[0m \u001B[38;5;28;43mself\u001B[39;49m\u001B[38;5;241;43m.\u001B[39;49m\u001B[43m_validate_integer\u001B[49m\u001B[43m(\u001B[49m\u001B[43mkey\u001B[49m\u001B[43m,\u001B[49m\u001B[43m \u001B[49m\u001B[43maxis\u001B[49m\u001B[43m)\u001B[49m\n\u001B[0;32m   1754\u001B[0m \u001B[38;5;28;01mreturn\u001B[39;00m \u001B[38;5;28mself\u001B[39m\u001B[38;5;241m.\u001B[39mobj\u001B[38;5;241m.\u001B[39m_ixs(key, axis\u001B[38;5;241m=\u001B[39maxis)\n",
      "File \u001B[1;32m~\\IdeaProjects\\AppliedArtificialIntelligence\\venv\\lib\\site-packages\\pandas\\core\\indexing.py:1685\u001B[0m, in \u001B[0;36m_iLocIndexer._validate_integer\u001B[1;34m(self, key, axis)\u001B[0m\n\u001B[0;32m   1683\u001B[0m len_axis \u001B[38;5;241m=\u001B[39m \u001B[38;5;28mlen\u001B[39m(\u001B[38;5;28mself\u001B[39m\u001B[38;5;241m.\u001B[39mobj\u001B[38;5;241m.\u001B[39m_get_axis(axis))\n\u001B[0;32m   1684\u001B[0m \u001B[38;5;28;01mif\u001B[39;00m key \u001B[38;5;241m>\u001B[39m\u001B[38;5;241m=\u001B[39m len_axis \u001B[38;5;129;01mor\u001B[39;00m key \u001B[38;5;241m<\u001B[39m \u001B[38;5;241m-\u001B[39mlen_axis:\n\u001B[1;32m-> 1685\u001B[0m     \u001B[38;5;28;01mraise\u001B[39;00m \u001B[38;5;167;01mIndexError\u001B[39;00m(\u001B[38;5;124m\"\u001B[39m\u001B[38;5;124msingle positional indexer is out-of-bounds\u001B[39m\u001B[38;5;124m\"\u001B[39m)\n",
      "\u001B[1;31mIndexError\u001B[0m: single positional indexer is out-of-bounds"
     ]
    }
   ],
   "execution_count": 64
  }
 ],
 "metadata": {
  "colab": {
   "authorship_tag": "ABX9TyNGrDaV/VR1npCFL8kqbJGU",
   "mount_file_id": "1-dZUQeQ87W6emhj_M_j4FzHupSooKZou",
   "provenance": []
  },
  "kernelspec": {
   "display_name": "Python 3",
   "name": "python3"
  },
  "language_info": {
   "name": "python",
   "version": "3.11.7"
  }
 },
 "nbformat": 4,
 "nbformat_minor": 0
}
